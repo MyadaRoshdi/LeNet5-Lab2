{
 "cells": [
  {
   "cell_type": "markdown",
   "metadata": {},
   "source": [
    "## Load Data\n",
    "\n",
    "This part is modified to load the Traffic Sign Classifier data, input image: (32x32x3), output: 43"
   ]
  },
  {
   "cell_type": "code",
   "execution_count": 9,
   "metadata": {},
   "outputs": [
    {
     "name": "stdout",
     "output_type": "stream",
     "text": [
      "\n",
      "Image Shape: (32, 32, 3)\n",
      "\n",
      "Training Set:   34799 samples\n",
      "Validation Set: 4410 samples\n",
      "Test Set:       12630 samples\n",
      "[41 41 41 41 41 41 41 41 41 41 41 41 41 41 41 41 41 41 41 41 41 41 41 41 41\n",
      " 41 41 41 41 41 41 41 41 41 41 41 41 41 41 41 41 41 41 41 41 41 41 41 41 41\n",
      " 41 41 41 41 41 41 41 41 41 41 41 41 41 41 41 41 41 41 41 41 41 41 41 41 41\n",
      " 41 41 41 41 41 41 41 41 41 41 41 41 41 41 41 41 41 41 41 41 41 41 41 41 41\n",
      " 41 41 41 41 41 41 41 41 41 41 41 41 41 41 41 41 41 41 41 41 41 41 41 41 41\n",
      " 41 41 41 41 41 41 41 41 41 41 41 41 41 41 41 41 41 41 41 41 41 41 41 41 41\n",
      " 41 41 41 41 41 41 41 41 41 41 41 41 41 41 41 41 41 41 41 41 41 41 41 41 41\n",
      " 41 41 41 41 41 41 41 41 41 41 41 41 41 41 41 41 41 41 41 41 41 41 41 41 41\n",
      " 41 41 41 41 41 41 41 41 41 41 31 31 31 31 31 31 31 31 31 31 31 31 31 31 31\n",
      " 31 31 31 31 31 31 31 31 31 31 31 31 31 31 31 31 31 31 31 31 31 31 31 31 31\n",
      " 31 31 31 31 31 31 31 31 31 31 31 31 31 31 31 31 31 31 31 31 31 31 31 31 31\n",
      " 31 31 31 31 31 31 31 31 31 31 31 31 31 31 31 31 31 31 31 31 31 31 31 31 31\n",
      " 31 31 31 31 31 31 31 31 31 31 31 31 31 31 31 31 31 31 31 31 31 31 31 31 31\n",
      " 31 31 31 31 31 31 31 31 31 31 31 31 31 31 31 31 31 31 31 31 31 31 31 31 31\n",
      " 31 31 31 31 31 31 31 31 31 31 31 31 31 31 31 31 31 31 31 31 31 31 31 31 31\n",
      " 31 31 31 31 31 31 31 31 31 31 31 31 31 31 31 31 31 31 31 31 31 31 31 31 31\n",
      " 31 31 31 31 31 31 31 31 31 31 31 31 31 31 31 31 31 31 31 31 31 31 31 31 31\n",
      " 31 31 31 31 31 31 31 31 31 31 31 31 31 31 31 31 31 31 31 31 31 31 31 31 31\n",
      " 31 31 31 31 31 31 31 31 31 31 31 31 31 31 31 31 31 31 31 31 31 31 31 31 31\n",
      " 31 31 31 31 31 31 31 31 31 31 31 31 31 31 31 31 31 31 31 31 31 31 31 31 31\n",
      " 31 31 31 31 31 31 31 31 31 31 31 31 31 31 31 31 31 31 31 31 31 31 31 31 31\n",
      " 31 31 31 31 31 31 31 31 31 31 31 31 31 31 31 31 31 31 31 31 31 31 31 31 31\n",
      " 31 31 31 31 31 31 31 31 31 31 31 31 31 31 31 31 31 31 31 31 31 31 31 31 31\n",
      " 31 31 31 31 31 31 31 31 31 31 31 31 31 31 31 31 31 31 31 31 31 31 31 31 31\n",
      " 31 31 31 31 31 31 31 31 31 31 31 31 31 31 31 31 31 31 31 31 31 31 31 31 31\n",
      " 31 31 31 31 31 31 31 31 31 31 31 31 31 31 31 31 31 31 31 31 31 31 31 31 31\n",
      " 31 31 31 31 31 31 31 31 31 31 31 31 31 31 31 31 31 31 31 31 31 31 31 31 31\n",
      " 31 31 31 31 31 31 31 31 31 31 31 31 31 31 31 31 31 31 31 31 31 31 31 31 31\n",
      " 31 31 31 31 31 31 31 31 31 31 31 31 31 31 31 31 31 31 31 31 31 31 31 31 31\n",
      " 31 31 31 31 31 31 31 31 31 31 31 31 31 31 31 31 31 31 31 31 31 31 31 31 31\n",
      " 31 31 31 31 31 31 31 31 31 31 31 31 31 31 31 31 31 31 31 31 31 31 31 31 31\n",
      " 31 31 31 31 31 31 31 31 31 31 31 31 31 31 31 31 31 31 31 31 31 31 31 31 31\n",
      " 31 31 31 31 31 31 31 31 31 31 31 31 31 31 31 31 31 31 31 31 31 31 31 31 31\n",
      " 31 31 31 31 31 31 31 31 31 31 31 31 31 31 31 31 31 31 31 31 31 31 31 31 31\n",
      " 31 31 31 31 31 31 31 31 31 31 31 31 31 31 31 31 31 31 31 31 31 31 31 31 31\n",
      " 31 31 31 31 31 31 31 31 31 31 31 31 31 31 31 31 31 31 31 31 31 31 31 31 31\n",
      " 36 36 36 36 36 36 36 36 36 36 36 36 36 36 36 36 36 36 36 36 36 36 36 36 36\n",
      " 36 36 36 36 36 36 36 36 36 36 36 36 36 36 36 36 36 36 36 36 36 36 36 36 36\n",
      " 36 36 36 36 36 36 36 36 36 36 36 36 36 36 36 36 36 36 36 36 36 36 36 36 36\n",
      " 36 36 36 36 36 36 36 36 36 36 36 36 36 36 36 36 36 36 36 36 36 36 36 36 36]\n"
     ]
    }
   ],
   "source": [
    "# Load pickled data\n",
    "import pickle\n",
    "\n",
    "# TODO: Fill this in based on where you saved the training and testing data\n",
    "\n",
    "training_file = 'train.p'\n",
    "validation_file= 'valid.p'\n",
    "testing_file = 'test.p'\n",
    "\n",
    "with open(training_file, mode='rb') as f:\n",
    "    train = pickle.load(f)\n",
    "with open(validation_file, mode='rb') as f:\n",
    "    valid = pickle.load(f)\n",
    "with open(testing_file, mode='rb') as f:\n",
    "    test = pickle.load(f)\n",
    "    \n",
    "X_train, y_train = train['features'], train['labels']\n",
    "X_validation, y_validation = valid['features'], valid['labels']\n",
    "X_test, y_test = test['features'], test['labels']\n",
    "\n",
    "assert(len(X_train) == len(y_train))\n",
    "assert(len(X_validation) == len(y_validation))\n",
    "assert(len(X_test) == len(y_test))\n",
    "\n",
    "print()\n",
    "print(\"Image Shape: {}\".format(X_train[0].shape))\n",
    "print()\n",
    "print(\"Training Set:   {} samples\".format(len(X_train)))\n",
    "print(\"Validation Set: {} samples\".format(len(X_validation)))\n",
    "print(\"Test Set:       {} samples\".format(len(X_test)))\n",
    "print(\"Target outputs before shuffle:\")\n",
    "print(y_train[0:1000])"
   ]
  },
  {
   "cell_type": "markdown",
   "metadata": {},
   "source": [
    "## Visualize Data\n",
    "\n",
    "View a sample from the dataset.\n",
    "\n"
   ]
  },
  {
   "cell_type": "code",
   "execution_count": 10,
   "metadata": {
    "scrolled": true
   },
   "outputs": [
    {
     "name": "stdout",
     "output_type": "stream",
     "text": [
      "Datasets Mean values BEFORE Normalization are: \n",
      "\n",
      "Training set : 82.6775890369964 \n",
      "Validation set: 83.55642737563775 \n",
      "Testing set : 82.14846036120183 \n",
      "Trainint set dimension is: (34799, 32, 32, 3)\n"
     ]
    },
    {
     "data": {
      "image/png": "[encoded data removed]",
      "text/plain": [
       "<matplotlib.figure.Figure at 0x966c518>"
      ]
     },
     "metadata": {},
     "output_type": "display_data"
    }
   ],
   "source": [
    "import random\n",
    "import numpy as np\n",
    "import matplotlib.pyplot as plt\n",
    "%matplotlib inline\n",
    "\n",
    "# visualize 5- random images from training dataset\n",
    "fig, axs = plt.subplots(1,5, figsize=(15, 6))\n",
    "fig.subplots_adjust(hspace = .2, wspace=.2)\n",
    "axs = axs.ravel()\n",
    "for i in range(5):\n",
    "    index = random.randint(0, len(X_train))\n",
    "    image = X_train[index]\n",
    "    axs[i].axis('off')\n",
    "    axs[i].imshow(image)\n",
    "    axs[i].set_title(y_train[index])\n",
    "\n",
    "# printing the mean values for every dataset\n",
    "X_train_mean= np.mean(X_train)\n",
    "X_validation_mean= np.mean(X_validation)\n",
    "X_test_mean= np.mean(X_test)\n",
    "print(\"Datasets Mean values BEFORE Normalization are: \\n\")\n",
    "print(\"Training set : {} \".format(X_train_mean))\n",
    "print(\"Validation set: {} \".format(X_validation_mean))\n",
    "print(\"Testing set : {} \".format(X_test_mean))\n",
    "print(\"Trainint set dimension is: {}\".format(X_train.shape))"
   ]
  },
  {
   "cell_type": "markdown",
   "metadata": {},
   "source": [
    "## Preprocess Data"
   ]
  },
  {
   "cell_type": "markdown",
   "metadata": {},
   "source": [
    "Pre-process the Data Set (normalization, grayscale, etc.)\n",
    "Minimally, the image data should be normalized so that the data has mean zero and equal variance. For image data, (pixel - 128)/ 128 is a quick way to approximately normalize the data and can be used in this project."
   ]
  },
  {
   "cell_type": "code",
   "execution_count": 11,
   "metadata": {},
   "outputs": [
    {
     "name": "stdout",
     "output_type": "stream",
     "text": [
      "12\n",
      "Grayscale Image Shape: (32, 32, 1)\n"
     ]
    },
    {
     "data": {
      "image/png": "[encoded data removed]",
      "text/plain": [
       "<matplotlib.figure.Figure at 0x7f0b358>"
      ]
     },
     "metadata": {},
     "output_type": "display_data"
    }
   ],
   "source": [
    "\n",
    "# Convert to grayscale, \n",
    "X_train = np.sum(X_train/3, axis=3, keepdims=True)\n",
    "X_validation = np.sum(X_validation/3, axis=3, keepdims=True)\n",
    "X_test = np.sum(X_test/3, axis=3, keepdims=True)\n",
    "\n",
    "\n",
    "\n",
    "\n",
    "# visualize 1- Random image after grayscale conversion from training dataset\n",
    "index = random.randint(0, len(X_train))\n",
    "image = X_train[index].squeeze()\n",
    "plt.figure(figsize=(1,1))\n",
    "plt.imshow(image, cmap=\"gray\")\n",
    "print(y_train[index])\n",
    "\n",
    "# printing the data image dimension now after converting to grayscale\n",
    "print(\"Grayscale Image Shape: {}\".format(X_train[0].shape))\n",
    "\n",
    "\n",
    "\n",
    "\n"
   ]
  },
  {
   "cell_type": "code",
   "execution_count": 12,
   "metadata": {},
   "outputs": [
    {
     "name": "stdout",
     "output_type": "stream",
     "text": [
      "18\n"
     ]
    },
    {
     "data": {
      "image/png": "[encoded data removed]",
      "text/plain": [
       "<matplotlib.figure.Figure at 0x9a649e8>"
      ]
     },
     "metadata": {},
     "output_type": "display_data"
    }
   ],
   "source": [
    "# Normalize the data (pixel - 128)/ 128\n",
    "\n",
    "X_train = (X_train - 128)/128\n",
    "X_validation = (X_validation - 128)/128\n",
    "X_test = (X_test - 128)/128\n",
    "\n",
    "# visualize 1- Random image after Normalization from training dataset\n",
    "index = random.randint(0, len(X_train))\n",
    "image = X_train[index].squeeze()\n",
    "plt.figure(figsize=(1,1))\n",
    "plt.imshow(image, cmap=\"gray\")\n",
    "print(y_train[index])"
   ]
  },
  {
   "cell_type": "markdown",
   "metadata": {},
   "source": [
    "## Another method for Normalizing grayscale\n",
    "\n",
    "Implement the Min-Max scaling function ($X'=a+{\\frac {\\left(X-X_{\\min }\\right)\\left(b-a\\right)}{X_{\\max }-X_{\\min }}}$) with the parameters:\n",
    "$X_{\\min }=0$\n",
    "$X_{\\max }=255$\n",
    "$a=0.1$\n",
    "$b=0.9$"
   ]
  },
  {
   "cell_type": "code",
   "execution_count": 33,
   "metadata": {},
   "outputs": [
    {
     "name": "stdout",
     "output_type": "stream",
     "text": [
      "5\n"
     ]
    },
    {
     "data": {
      "image/png": "[encoded data removed]",
      "text/plain": [
       "<matplotlib.figure.Figure at 0x7f10b0bcde10>"
      ]
     },
     "metadata": {},
     "output_type": "display_data"
    }
   ],
   "source": [
    "a = 0.1\n",
    "b = 0.9\n",
    "grayscale_min = 0\n",
    "grayscale_max = 255\n",
    "\n",
    "X_train = a + ( ( (X_train - grayscale_min)*(b - a) )/( grayscale_max - grayscale_min ) )\n",
    "X_validation = a + ( ( (X_validation - grayscale_min)*(b - a) )/( grayscale_max - grayscale_min ) )\n",
    "X_test = a + ( ( (X_test - grayscale_min)*(b - a) )/( grayscale_max - grayscale_min ) )\n",
    "\n",
    "# visualize 1- Random image after Normalization from training dataset\n",
    "index = random.randint(0, len(X_train))\n",
    "image = X_train[index].squeeze()\n",
    "plt.figure(figsize=(1,1))\n",
    "plt.imshow(image, cmap=\"gray\")\n",
    "print(y_train[index])"
   ]
  },
  {
   "cell_type": "code",
   "execution_count": 13,
   "metadata": {},
   "outputs": [
    {
     "name": "stdout",
     "output_type": "stream",
     "text": [
      "Datasets Mean values AFTER Normalization are: \n",
      "\n",
      "Training set : -0.35408133564846583 \n",
      "Validation set: -0.3472154111278294 \n",
      "Testing set : -0.3582151534281105 \n",
      "Trainint set dimension is: (34799, 32, 32, 1)\n"
     ]
    }
   ],
   "source": [
    "\n",
    "\n",
    "# printing the mean values for every dataset\n",
    "X_train_N_mean= np.mean(X_train)\n",
    "X_validation_N_mean= np.mean(X_validation)\n",
    "X_test_N_mean= np.mean(X_test)\n",
    "print(\"Datasets Mean values AFTER Normalization are: \\n\")\n",
    "print(\"Training set : {} \".format(X_train_N_mean))\n",
    "print(\"Validation set: {} \".format(X_validation_N_mean))\n",
    "print(\"Testing set : {} \".format(X_test_N_mean))\n",
    "print(\"Trainint set dimension is: {}\".format(X_train.shape))\n",
    "\n"
   ]
  },
  {
   "cell_type": "code",
   "execution_count": null,
   "metadata": {
    "collapsed": true
   },
   "outputs": [],
   "source": []
  },
  {
   "cell_type": "markdown",
   "metadata": {},
   "source": [
    "\n",
    "Shuffle the training data.\n"
   ]
  },
  {
   "cell_type": "code",
   "execution_count": 15,
   "metadata": {},
   "outputs": [
    {
     "name": "stdout",
     "output_type": "stream",
     "text": [
      "Target outputs after shuffle:\n",
      "[28 10 38 29 35  2 17 11  5 10 33 15 41 15  2  7 18 15 14  8 40 18  3 29  2\n",
      " 11  9 40 38 11 12  2 13  3 12  9  2 30 10  4 13  8 14 17 14 11 34 20 16 36\n",
      "  5  7 33 30 26 35 36 36  4 15 11 12 29  8 35 25 11 12 28 15 12  7 30  2 34\n",
      "  8 17 35 35 31 10  6 29 16 18  8 15  2 11 10  9 25  2 17 14  4 38 36  2 36\n",
      " 26  9 34 17  2 18 13 38  8 25  3 25 10  5 23 38  3 17 11 18  7 35 12 30 14\n",
      " 13  9 23 19  5  4 12  1  8 10  8 22 38  2  5  4 38 16 33  9 10 10 25  5  7\n",
      " 13  2  7  4  9  4 18 24  2  9 40 22 12  6  8 22  9 13  4  2 33 13  5  8 20\n",
      " 13 27  8  2  2 24 24 29 35  9  2  8  2  5 21 17  1  1 25 39 13 28 28  7  1\n",
      " 24 12 14 12 10 25 30 12 12 16 30 10 10 40  2 24 17  7 22  9 28 11  4 26  2\n",
      "  9 16 10 38  2 32  2  1 18 15 13  4 17 16 29  9 33 22  1 26 33  2 13 20  9\n",
      "  2 26 25  8 14 25 18  9 17 20 35 40 17 42  5 21  2 18  2 33 30  7 15  3 11\n",
      " 11  9 40  9  7 12 40 10 15  7 40  2 35  1 12 23  2 26 10  6  8 25  9 38 13\n",
      " 13  3 13  4 29 17 12  3 12  1 18  1  4  9 38 31 33 35  1 28  9 11 12  9  1\n",
      " 38 25  2 18 33 12 28  4  4 10 16  3 35 28 10 25 10 15  8 11  0 18  3 31 17\n",
      " 25 33  3  5 17  2 35 37 40 13 25 10 12 22  8 12 13 39 13 25 31 16 12 38 36\n",
      "  4  7  8 18 17 32 27  4 35  2 39 30  4 25  3 25 12 17  9 33 10 38 13  8 12\n",
      "  3  3  5 34 13 13  2  3  3 18 15  5  4 25 29 12  8 36  8 10 13  8 14  2  2\n",
      " 26  7 18  4  1  3  7 13  1  1 12  5 12  2  4  9 13 18 28 31 34 10 10  2  1\n",
      "  9 35 15 35 26  4 29  2 26 38 20  5 38  4  4  1  4  4 11 25  8 11 34 38 19\n",
      " 25  9 11 40 38 13  8 24  5 31 34 33 12 12 12 40 18 13 31 22 38 38 14 29 35\n",
      " 26 39  1 15 20 12  6  4  3  5  8 15 10 19  0  7 36 28  2 13 36 12 12 13 31\n",
      " 15  3 16 10  3  8  5 40  2 13 10  3 13 12  1 12 10  6 25 11  8 11  5 41 15\n",
      " 28 13  8  5 11 10 13  2 18 38 13  9  5 11 36 41  1 23 11 33  8 35 12  4  8\n",
      " 12  4 30 38 38 17 12 29  2 10 28  3  4  2 17 26 30  7  4 36 14 38 31 41 10\n",
      " 38  7 17 10  7 10 18 12 22 11 14  1  7  8 13 12 25 26 28 38 38  7  5  9 16\n",
      " 18 11 30  8  7 40 12 42  9 30 41 19 35 33 17 16 28  1  5 35 38 13 13 16 38\n",
      "  1 18  3 20 17  8  2 33 37  4  8 42  3 38  2  2 33 11 12  1 13  3  5 30 38\n",
      " 38 38 10 10 13  2  7  9 34  4  5 29  1  2  4 11 25 16 11  5  2  2 34  2  2\n",
      " 10  3  1  5 11 30  3 31 38 22 11  5 15 38 32 34 42  1  5 12  4  4  1 35  4\n",
      "  9 28 10 15 11 13  1 28  8 13 13 18  4 25  3 34  2 12  7 15 38 11 33  3  6\n",
      " 13  2  4 11 31 23 31 17  8 34 35 26 17 17 36 21 31 12 13 12 21  1  4  9 23\n",
      "  5 25 18 35 22 35  5 10  2  3  1  4  1 15 29 25 10  1 30 16 18 23 35 22 10\n",
      " 38  8 31  8 18 31 12  3  5  1  9  9  2 27  5 37 26  8 12  2  9 11 13 40 39\n",
      " 38 13 39 21  7 14 33 15  9  4 41  1 34 37  4 13  5  1 12  9  1 27 13 13  4\n",
      "  7 33 35  1 38  5  2 21 17  4  3 12  4 38  1 12 29 13 25 10  9 23 23  2 38\n",
      " 13 35 25  2  4 31  8 23 38 25  1  5 38 12  3  7 12  4 10 17  1 29 24 25 40\n",
      " 37 10 21  5  4  7 18 13 38  2 38 40 11  4 25  3 13 18 12 11 39  5 23 28  7\n",
      "  9  4  3 25 31 11  9  2  3  2 35 36 38  1 40  3 31 35 12  5 16 38  2  9 13\n",
      " 13 25 11  2 12  1 38  8 25 18 35 31  5 21 10  8 12 17  2 18 31 18 38 38 25\n",
      " 10  6 18 13  3  1  3 38 13  8 25  5  7 31 35  9  3  1 38  4 25  4  7 10 25]\n",
      "done\n"
     ]
    }
   ],
   "source": [
    "from sklearn.utils import shuffle\n",
    "\n",
    "X_train, y_train = shuffle(X_train, y_train)\n",
    "print(\"Target outputs after shuffle:\")\n",
    "print(y_train[0:1000])\n",
    "\n",
    "print('done')"
   ]
  },
  {
   "cell_type": "markdown",
   "metadata": {},
   "source": [
    "###  Augmenting Training set\n",
    "\n",
    "Augmenting the training set might help improve model performance. Common data augmentation techniques include rotation, translation, zoom, flips, and/or color perturbation. These techniques can be used individually or combined.\n"
   ]
  },
  {
   "cell_type": "markdown",
   "metadata": {
    "collapsed": true
   },
   "source": [
    "In this section, I used the input data processing techniques as suggested by the paper, now I have a jittered dataset by adding 5\n",
    "transformed versions of the original training set, yielding\n",
    "173,995 samples in total and a validation set of 22,050 samples."
   ]
  },
  {
   "cell_type": "code",
   "execution_count": 26,
   "metadata": {
    "scrolled": true
   },
   "outputs": [
    {
     "name": "stdout",
     "output_type": "stream",
     "text": [
      "Image dimension before scaling:  (32, 32, 1)\n",
      "An Image before Scaling: \n",
      "An Image after Scaling: \n",
      "\n",
      "Image Shape: (32, 32, 1)\n",
      "\n",
      "Training Set:   69598 samples\n",
      "Validation Set: 4410 samples\n",
      "Test Set:       12630 samples\n"
     ]
    },
    {
     "data": {
      "image/png": "[encoded data removed]",
      "text/plain": [
       "<matplotlib.figure.Figure at 0x9928b70>"
      ]
     },
     "metadata": {},
     "output_type": "display_data"
    },
    {
     "data": {
      "image/png": "[encoded data removed]",
      "text/plain": [
       "<matplotlib.figure.Figure at 0x7e67898>"
      ]
     },
     "metadata": {},
     "output_type": "display_data"
    }
   ],
   "source": [
    "# Adding rotated images as more samples\n",
    "# transrom the input data to rotated data then add to the input and shuffle both, expecting to have # of training samples= 69,598\n",
    "# and # of validation samples= 8820 samples\n",
    "import cv2\n",
    "\n",
    "def Scaling(input): \n",
    "    output = []\n",
    "    print(\"Image dimension before scaling: \", input[0].shape)\n",
    "    for i in range (len(input)):\n",
    "        rows,cols,_ = input[i].shape\n",
    "\n",
    "        # transform limits\n",
    "        px = np.random.randint(-2,2)\n",
    "        \n",
    "        # ending locations\n",
    "        pts1 = np.float32([[px,px],[rows-px,px],[px,cols-px],[rows-px,cols-px]])\n",
    "        \n",
    "        # starting locations (4 corners)\n",
    "        pts2 = np.float32([[0,0],[rows,0],[0,cols],[rows,cols]])\n",
    "        \n",
    "        M = cv2.getPerspectiveTransform(pts1,pts2)\n",
    "        img = cv2.warpPerspective(input[i],M,(rows,cols))\n",
    "        img = img[:,:,np.newaxis]\n",
    "        output.append(img)\n",
    "    \n",
    "    \n",
    "    return output\n",
    "\n",
    "\n",
    "input = X_train\n",
    "X_train_scaled= Scaling(input)\n",
    "# display an Image before and after Scaling\n",
    "\n",
    "print (\"An Image before Scaling: \")\n",
    "image = X_train[10].squeeze()\n",
    "plt.figure(figsize=(1,1))\n",
    "plt.imshow(image, cmap=\"gray\")\n",
    "\n",
    "\n",
    "print (\"An Image after Scaling: \")\n",
    "image = X_train_scaled[10].squeeze()\n",
    "plt.figure(figsize=(1,1))\n",
    "plt.imshow(image, cmap=\"gray\")\n",
    "\n",
    "X_train = np.concatenate((X_train, X_train_scaled), axis=0)\n",
    "y_train = np.concatenate((y_train, y_train), axis=0)\n",
    "\n",
    "\n",
    "\n",
    "\n",
    "# Shuffle new training data\n",
    "X_train, y_train = shuffle(X_train, y_train)\n",
    "\n",
    "print()\n",
    "print(\"Image Shape: {}\".format(X_train[0].shape))\n",
    "print()\n",
    "print(\"Training Set:   {} samples\".format(len(X_train)))\n",
    "print(\"Validation Set: {} samples\".format(len(X_validation)))\n",
    "print(\"Test Set:       {} samples\".format(len(X_test)))\n",
    "\n"
   ]
  },
  {
   "cell_type": "markdown",
   "metadata": {},
   "source": [
    "## Setup TensorFlow\n",
    "The `EPOCH` and `BATCH_SIZE` values affect the training speed and model accuracy.\n",
    "\n",
    "You do not need to modify this section."
   ]
  },
  {
   "cell_type": "code",
   "execution_count": 36,
   "metadata": {
    "collapsed": true
   },
   "outputs": [],
   "source": [
    "import tensorflow as tf\n",
    "\n",
    "EPOCHS = 100\n",
    "BATCH_SIZE = 150\n",
    "dropout = 0.6"
   ]
  },
  {
   "cell_type": "markdown",
   "metadata": {},
   "source": [
    "## Original LeNet-5\n",
    "Implement the [LeNet-5](http://yann.lecun.com/exdb/lenet/) neural network architecture.\n",
    "![LeNet Architecture](lenet.png)\n",
    "Source: Yan LeCun\n",
    "\n",
    "\n",
    "\n",
    "### Input\n",
    "The LeNet architecture accepts a 32x32xC image as input, where C is the number of color channels. C is 1 in this case, since we are working on a grayscale Images.\n",
    "\n",
    "### Architecture\n",
    "**Layer 1: Convolutional.** The output shape should be 28x28x6.\n",
    "\n",
    "**Activation.** Your choice of activation function.\n",
    "\n",
    "**Pooling.** The output shape should be 14x14x6.\n",
    "\n",
    "**Layer 2: Convolutional.** The output shape should be 10x10x16.\n",
    "\n",
    "**Activation.** Your choice of activation function.\n",
    "\n",
    "**Pooling.** The output shape should be 5x5x16.\n",
    "\n",
    "**Flatten.** Flatten the output shape of the final pooling layer such that it's 1D instead of 3D. The easiest way to do is by using `tf.contrib.layers.flatten`, which is already imported for you.\n",
    "\n",
    "**Layer 3: Fully Connected.** This should have 120 outputs.\n",
    "\n",
    "**Activation.** Your choice of activation function.\n",
    "\n",
    "**Layer 4: Fully Connected.** This should have 84 outputs.\n",
    "\n",
    "**Activation.** Your choice of activation function.\n",
    "\n",
    "**Layer 5: Fully Connected (Logits).** This should have 43 outputs.\n",
    "\n",
    "### Output\n",
    "Return the result of the 2nd fully connected layer."
   ]
  },
  {
   "cell_type": "code",
   "execution_count": 17,
   "metadata": {},
   "outputs": [
    {
     "name": "stdout",
     "output_type": "stream",
     "text": [
      "done\n"
     ]
    }
   ],
   "source": [
    "from tensorflow.contrib.layers import flatten\n",
    "\n",
    "def LeNet(x):    \n",
    "    # Arguments used for tf.truncated_normal, randomly defines variables for the weights and biases for each layer\n",
    "    mu = 0\n",
    "    sigma = 0.1\n",
    "    \n",
    "    # SOLUTION: Layer 1: Convolutional. Input = 32x32x1. Output = 28x28x6.\n",
    "    conv1_W = tf.Variable(tf.truncated_normal(shape=(5, 5, 1, 6), mean = mu, stddev = sigma))\n",
    "    conv1_b = tf.Variable(tf.zeros(6))\n",
    "    conv1   = tf.nn.conv2d(x, conv1_W, strides=[1, 1, 1, 1], padding='VALID') + conv1_b\n",
    "\n",
    "    # SOLUTION: Activation.\n",
    "    conv1 = tf.nn.relu(conv1)\n",
    "\n",
    "    # SOLUTION: Pooling. Input = 28x28x6. Output = 14x14x6.\n",
    "    conv1 = tf.nn.max_pool(conv1, ksize=[1, 2, 2, 1], strides=[1, 2, 2, 1], padding='VALID')\n",
    "\n",
    "    # SOLUTION: Layer 2: Convolutional. Output = 10x10x16.\n",
    "    conv2_W = tf.Variable(tf.truncated_normal(shape=(5, 5, 6, 16), mean = mu, stddev = sigma))\n",
    "    conv2_b = tf.Variable(tf.zeros(16))\n",
    "    conv2   = tf.nn.conv2d(conv1, conv2_W, strides=[1, 1, 1, 1], padding='VALID') + conv2_b\n",
    "    \n",
    "    # SOLUTION: Activation.\n",
    "    conv2 = tf.nn.relu(conv2)\n",
    "\n",
    "    # SOLUTION: Pooling. Input = 10x10x16. Output = 5x5x16.\n",
    "    conv2 = tf.nn.max_pool(conv2, ksize=[1, 2, 2, 1], strides=[1, 2, 2, 1], padding='VALID')\n",
    "\n",
    "    # SOLUTION: Flatten. Input = 5x5x16. Output = 400.\n",
    "    fc0   = flatten(conv2)\n",
    "    \n",
    "    \n",
    "    # SOLUTION: Layer 3: Fully Connected. Input = 400. Output = 120.\n",
    "    fc1_W = tf.Variable(tf.truncated_normal(shape=(400, 120), mean = mu, stddev = sigma))\n",
    "    fc1_b = tf.Variable(tf.zeros(120))\n",
    "    fc1   = tf.matmul(fc0, fc1_W) + fc1_b\n",
    "    \n",
    "    # SOLUTION: Activation.\n",
    "    fc1    = tf.nn.relu(fc1)\n",
    "    \n",
    "\n",
    "    # SOLUTION: Layer 4: Fully Connected. Input = 120. Output = 84.\n",
    "    fc2_W  = tf.Variable(tf.truncated_normal(shape=(120, 84), mean = mu, stddev = sigma))\n",
    "    fc2_b  = tf.Variable(tf.zeros(84))\n",
    "    fc2    = tf.matmul(fc1, fc2_W) + fc2_b\n",
    "    \n",
    "    # SOLUTION: Activation.\n",
    "    fc2    = tf.nn.relu(fc2)\n",
    "    # ---> Using Dropout for Regularization \n",
    "    fc2 = tf.nn.dropout(fc2, dropout)\n",
    "\n",
    "    # SOLUTION: Layer 5: Fully Connected. Input = 84. Output = 10.\n",
    "    fc3_W  = tf.Variable(tf.truncated_normal(shape=(84, 43), mean = mu, stddev = sigma))\n",
    "    fc3_b  = tf.Variable(tf.zeros(43))\n",
    "    logits = tf.matmul(fc2, fc3_W) + fc3_b\n",
    "    \n",
    "    return logits\n",
    "print('done')"
   ]
  },
  {
   "cell_type": "markdown",
   "metadata": {},
   "source": [
    "## Modified LeNet5\n",
    "Using Suggested Architecture in [Traffic Sign Recognition with Multi-Scale Convolutional Networks](http://yann.lecun.com/exdb/publis/pdf/sermanet-ijcnn-11.pdf)"
   ]
  },
  {
   "cell_type": "markdown",
   "metadata": {},
   "source": [
    "![1-Suggested_Paper_Architecture.png](attachment:1-Suggested_Paper_Architecture.png)"
   ]
  },
  {
   "cell_type": "code",
   "execution_count": 37,
   "metadata": {},
   "outputs": [
    {
     "name": "stdout",
     "output_type": "stream",
     "text": [
      "done\n"
     ]
    }
   ],
   "source": [
    "def LeNet_modified(x):    \n",
    "    # Arguments used for tf.truncated_normal, randomly defines variables for the weights and biases for each layer\n",
    "    # Hyperparameters\n",
    "    mu = 0\n",
    "    sigma = 0.1\n",
    "    \n",
    "    # TODO: Layer 1: Convolutional. Input = 32x32x1. Output = 28x28x6.\n",
    "    W1 = tf.Variable(tf.truncated_normal(shape=(5, 5, 1, 6), mean = mu, stddev = sigma), name=\"W1\")\n",
    "    x = tf.nn.conv2d(x, W1, strides=[1, 1, 1, 1], padding='VALID')\n",
    "    b1 = tf.Variable(tf.zeros(6), name=\"b1\")\n",
    "    x = tf.nn.bias_add(x, b1)\n",
    "    print(\"layer 1 shape:\",x.get_shape())\n",
    "\n",
    "    # TODO: Activation.\n",
    "    x = tf.nn.relu(x)\n",
    "    \n",
    "    # TODO: Pooling. Input = 28x28x6. Output = 14x14x6.\n",
    "    x = tf.nn.max_pool(x, ksize=[1, 2, 2, 1], strides=[1, 2, 2, 1], padding='VALID')\n",
    "    layer1 = x\n",
    "    \n",
    "    # TODO: Layer 2: Convolutional. Output = 10x10x16.\n",
    "    W2 = tf.Variable(tf.truncated_normal(shape=(5, 5, 6, 16), mean = mu, stddev = sigma), name=\"W2\")\n",
    "    x = tf.nn.conv2d(x, W2, strides=[1, 1, 1, 1], padding='VALID')\n",
    "    b2 = tf.Variable(tf.zeros(16), name=\"b2\")\n",
    "    x = tf.nn.bias_add(x, b2)\n",
    "                     \n",
    "    # TODO: Activation.\n",
    "    x = tf.nn.relu(x)\n",
    "\n",
    "    # TODO: Pooling. Input = 10x10x16. Output = 5x5x16.\n",
    "    x = tf.nn.max_pool(x, ksize=[1, 2, 2, 1], strides=[1, 2, 2, 1], padding='VALID')\n",
    "    layer2 = x\n",
    "    \n",
    "    # TODO: Layer 3: Convolutional. Output = 1x1x400.\n",
    "    W3 = tf.Variable(tf.truncated_normal(shape=(5, 5, 16, 400), mean = mu, stddev = sigma), name=\"W3\")\n",
    "    x = tf.nn.conv2d(x, W3, strides=[1, 1, 1, 1], padding='VALID')\n",
    "    b3 = tf.Variable(tf.zeros(400), name=\"b3\")\n",
    "    x = tf.nn.bias_add(x, b3)\n",
    "                     \n",
    "    # TODO: Activation.\n",
    "    x = tf.nn.relu(x)\n",
    "    layer3 = x\n",
    "\n",
    "    # TODO: Flatten. Input = 5x5x16. Output = 400.\n",
    "    layer2flat = flatten(layer2)\n",
    "    print(\"layer2flat shape:\",layer2flat.get_shape())\n",
    "    \n",
    "    # Flatten x. Input = 1x1x400. Output = 400.\n",
    "    xflat = flatten(x)\n",
    "    print(\"xflat shape:\",xflat.get_shape())\n",
    "    \n",
    "    # Concat layer2flat and x. Input = 400 + 400. Output = 800\n",
    "    x = tf.concat_v2([xflat, layer2flat], 1)\n",
    "    print(\"x shape:\",x.get_shape())\n",
    "    \n",
    "    # Dropout\n",
    "    x = tf.nn.dropout(x, dropout)\n",
    "    \n",
    "    # TODO: Layer 4: Fully Connected. Input = 800. Output = 43.\n",
    "    W4 = tf.Variable(tf.truncated_normal(shape=(800, 43), mean = mu, stddev = sigma), name=\"W4\")\n",
    "    b4 = tf.Variable(tf.zeros(43), name=\"b4\")    \n",
    "    logits = tf.add(tf.matmul(x, W4), b4)\n",
    "    \n",
    "    # TODO: Activation.\n",
    "    #x = tf.nn.relu(x)\n",
    "\n",
    "    # TODO: Layer 5: Fully Connected. Input = 120. Output = 84.\n",
    "    #W5 = tf.Variable(tf.truncated_normal(shape=(120, 84), mean = mu, stddev = sigma))\n",
    "    #b5 = tf.Variable(tf.zeros(84)) \n",
    "    #x = tf.add(tf.matmul(x, W5), b5)\n",
    "    \n",
    "    # TODO: Activation.\n",
    "    #x = tf.nn.relu(x)\n",
    "\n",
    "    # TODO: Layer 6: Fully Connected. Input = 84. Output = 43.\n",
    "    #W6 = tf.Variable(tf.truncated_normal(shape=(84, 43), mean = mu, stddev = sigma))\n",
    "    #b6 = tf.Variable(tf.zeros(43)) \n",
    "    #logits = tf.add(tf.matmul(x, W6), b6)\n",
    "    \n",
    "    return logits\n",
    "\n",
    "print('done')"
   ]
  },
  {
   "cell_type": "markdown",
   "metadata": {},
   "source": [
    "## Features and Labels\n",
    "Train LeNet to classify [Traffic- Signs data](https://d17h27t6h515a5.cloudfront.net/topher/2017/February/5898cd6f_traffic-signs-data/traffic-signs-data.zip) data.\n",
    "\n",
    "`x` is a placeholder for a batch of input images.\n",
    "`y` is a placeholder for a batch of output labels.\n",
    "\n",
    "You do not need to modify this section."
   ]
  },
  {
   "cell_type": "code",
   "execution_count": 38,
   "metadata": {
    "collapsed": true
   },
   "outputs": [],
   "source": [
    "x = tf.placeholder(tf.float32, (None, 32, 32, 1))\n",
    "y = tf.placeholder(tf.int32, (None))\n",
    "one_hot_y = tf.one_hot(y, 43)"
   ]
  },
  {
   "cell_type": "markdown",
   "metadata": {},
   "source": [
    "## Training Pipeline\n",
    "Create a training pipeline that uses the model to classify data.\n",
    "\n",
    "You do not need to modify this section."
   ]
  },
  {
   "cell_type": "code",
   "execution_count": 39,
   "metadata": {},
   "outputs": [
    {
     "name": "stdout",
     "output_type": "stream",
     "text": [
      "layer 1 shape: (?, 28, 28, 6)\n",
      "layer2flat shape: (?, 400)\n",
      "xflat shape: (?, 400)\n",
      "x shape: (?, 800)\n"
     ]
    }
   ],
   "source": [
    "rate = 0.0005\n",
    "\n",
    "#logits = LeNet(x)\n",
    "logits = LeNet_modified(x)\n",
    "cross_entropy = tf.nn.softmax_cross_entropy_with_logits(labels=one_hot_y, logits=logits)\n",
    "loss_operation = tf.reduce_mean(cross_entropy)\n",
    "optimizer = tf.train.AdamOptimizer(learning_rate = rate)\n",
    "training_operation = optimizer.minimize(loss_operation)"
   ]
  },
  {
   "cell_type": "markdown",
   "metadata": {},
   "source": [
    "## Model Evaluation\n",
    "Evaluate how well the loss and accuracy of the model for a given dataset.\n",
    "\n",
    "You do not need to modify this section."
   ]
  },
  {
   "cell_type": "code",
   "execution_count": 40,
   "metadata": {
    "collapsed": true
   },
   "outputs": [],
   "source": [
    "correct_prediction = tf.equal(tf.argmax(logits, 1), tf.argmax(one_hot_y, 1))\n",
    "accuracy_operation = tf.reduce_mean(tf.cast(correct_prediction, tf.float32))\n",
    "saver = tf.train.Saver()\n",
    "\n",
    "def evaluate(X_data, y_data):\n",
    "    num_examples = len(X_data)\n",
    "    total_accuracy = 0\n",
    "    sess = tf.get_default_session()\n",
    "    for offset in range(0, num_examples, BATCH_SIZE):\n",
    "        batch_x, batch_y = X_data[offset:offset+BATCH_SIZE], y_data[offset:offset+BATCH_SIZE]\n",
    "        accuracy = sess.run(accuracy_operation, feed_dict={x: batch_x, y: batch_y})\n",
    "        total_accuracy += (accuracy * len(batch_x))\n",
    "    return total_accuracy / num_examples"
   ]
  },
  {
   "cell_type": "markdown",
   "metadata": {},
   "source": [
    "## Train the Model\n",
    "Run the training data through the training pipeline to train the model.\n",
    "\n",
    "Before each epoch, shuffle the training set.\n",
    "\n",
    "After each epoch, measure the loss and accuracy of the validation set.\n",
    "\n",
    "Save the model after training.\n",
    "\n",
    "You do not need to modify this section."
   ]
  },
  {
   "cell_type": "code",
   "execution_count": 41,
   "metadata": {},
   "outputs": [
    {
     "name": "stdout",
     "output_type": "stream",
     "text": [
      "Training...\n",
      "\n",
      "EPOCH 1 ...\n",
      "Validation Accuracy = 0.529\n",
      "\n",
      "EPOCH 2 ...\n",
      "Validation Accuracy = 0.714\n",
      "\n",
      "EPOCH 3 ...\n",
      "Validation Accuracy = 0.775\n",
      "\n",
      "EPOCH 4 ...\n",
      "Validation Accuracy = 0.813\n",
      "\n",
      "EPOCH 5 ...\n",
      "Validation Accuracy = 0.851\n",
      "\n",
      "EPOCH 6 ...\n",
      "Validation Accuracy = 0.835\n",
      "\n",
      "EPOCH 7 ...\n",
      "Validation Accuracy = 0.868\n",
      "\n",
      "EPOCH 8 ...\n",
      "Validation Accuracy = 0.869\n",
      "\n",
      "EPOCH 9 ...\n",
      "Validation Accuracy = 0.863\n",
      "\n",
      "EPOCH 10 ...\n",
      "Validation Accuracy = 0.869\n",
      "\n",
      "EPOCH 11 ...\n",
      "Validation Accuracy = 0.890\n",
      "\n",
      "EPOCH 12 ...\n",
      "Validation Accuracy = 0.891\n",
      "\n",
      "EPOCH 13 ...\n",
      "Validation Accuracy = 0.888\n",
      "\n",
      "EPOCH 14 ...\n",
      "Validation Accuracy = 0.889\n",
      "\n",
      "EPOCH 15 ...\n",
      "Validation Accuracy = 0.894\n",
      "\n",
      "EPOCH 16 ...\n",
      "Validation Accuracy = 0.899\n",
      "\n",
      "EPOCH 17 ...\n",
      "Validation Accuracy = 0.895\n",
      "\n",
      "EPOCH 18 ...\n",
      "Validation Accuracy = 0.899\n",
      "\n",
      "EPOCH 19 ...\n",
      "Validation Accuracy = 0.901\n",
      "\n",
      "EPOCH 20 ...\n",
      "Validation Accuracy = 0.904\n",
      "\n",
      "EPOCH 21 ...\n",
      "Validation Accuracy = 0.904\n",
      "\n",
      "EPOCH 22 ...\n",
      "Validation Accuracy = 0.905\n",
      "\n",
      "EPOCH 23 ...\n",
      "Validation Accuracy = 0.900\n",
      "\n",
      "EPOCH 24 ...\n",
      "Validation Accuracy = 0.902\n",
      "\n",
      "EPOCH 25 ...\n",
      "Validation Accuracy = 0.903\n",
      "\n",
      "EPOCH 26 ...\n",
      "Validation Accuracy = 0.909\n",
      "\n",
      "EPOCH 27 ...\n",
      "Validation Accuracy = 0.907\n",
      "\n",
      "EPOCH 28 ...\n",
      "Validation Accuracy = 0.908\n",
      "\n",
      "EPOCH 29 ...\n",
      "Validation Accuracy = 0.909\n",
      "\n",
      "EPOCH 30 ...\n",
      "Validation Accuracy = 0.911\n",
      "\n",
      "EPOCH 31 ...\n",
      "Validation Accuracy = 0.915\n",
      "\n",
      "EPOCH 32 ...\n",
      "Validation Accuracy = 0.910\n",
      "\n",
      "EPOCH 33 ...\n",
      "Validation Accuracy = 0.913\n",
      "\n",
      "EPOCH 34 ...\n",
      "Validation Accuracy = 0.910\n",
      "\n",
      "EPOCH 35 ...\n",
      "Validation Accuracy = 0.918\n",
      "\n",
      "EPOCH 36 ...\n",
      "Validation Accuracy = 0.904\n",
      "\n",
      "EPOCH 37 ...\n",
      "Validation Accuracy = 0.918\n",
      "\n",
      "EPOCH 38 ...\n",
      "Validation Accuracy = 0.918\n",
      "\n",
      "EPOCH 39 ...\n",
      "Validation Accuracy = 0.913\n",
      "\n",
      "EPOCH 40 ...\n",
      "Validation Accuracy = 0.920\n",
      "\n",
      "EPOCH 41 ...\n",
      "Validation Accuracy = 0.910\n",
      "\n",
      "EPOCH 42 ...\n",
      "Validation Accuracy = 0.921\n",
      "\n",
      "EPOCH 43 ...\n",
      "Validation Accuracy = 0.921\n",
      "\n",
      "EPOCH 44 ...\n",
      "Validation Accuracy = 0.920\n",
      "\n",
      "EPOCH 45 ...\n",
      "Validation Accuracy = 0.918\n",
      "\n",
      "EPOCH 46 ...\n",
      "Validation Accuracy = 0.921\n",
      "\n",
      "EPOCH 47 ...\n",
      "Validation Accuracy = 0.924\n",
      "\n",
      "EPOCH 48 ...\n",
      "Validation Accuracy = 0.916\n",
      "\n",
      "EPOCH 49 ...\n",
      "Validation Accuracy = 0.922\n",
      "\n",
      "EPOCH 50 ...\n",
      "Validation Accuracy = 0.919\n",
      "\n",
      "EPOCH 51 ...\n",
      "Validation Accuracy = 0.913\n",
      "\n",
      "EPOCH 52 ...\n",
      "Validation Accuracy = 0.920\n",
      "\n",
      "EPOCH 53 ...\n",
      "Validation Accuracy = 0.917\n",
      "\n",
      "EPOCH 54 ...\n",
      "Validation Accuracy = 0.920\n",
      "\n",
      "EPOCH 55 ...\n",
      "Validation Accuracy = 0.915\n",
      "\n",
      "EPOCH 56 ...\n",
      "Validation Accuracy = 0.919\n",
      "\n",
      "EPOCH 57 ...\n",
      "Validation Accuracy = 0.917\n",
      "\n",
      "EPOCH 58 ...\n",
      "Validation Accuracy = 0.922\n",
      "\n",
      "EPOCH 59 ...\n",
      "Validation Accuracy = 0.920\n",
      "\n",
      "EPOCH 60 ...\n",
      "Validation Accuracy = 0.927\n",
      "\n",
      "EPOCH 61 ...\n",
      "Validation Accuracy = 0.924\n",
      "\n",
      "EPOCH 62 ...\n",
      "Validation Accuracy = 0.922\n",
      "\n",
      "EPOCH 63 ...\n",
      "Validation Accuracy = 0.927\n",
      "\n",
      "EPOCH 64 ...\n",
      "Validation Accuracy = 0.919\n",
      "\n",
      "EPOCH 65 ...\n",
      "Validation Accuracy = 0.920\n",
      "\n",
      "EPOCH 66 ...\n",
      "Validation Accuracy = 0.927\n",
      "\n",
      "EPOCH 67 ...\n",
      "Validation Accuracy = 0.917\n",
      "\n",
      "EPOCH 68 ...\n",
      "Validation Accuracy = 0.913\n",
      "\n",
      "EPOCH 69 ...\n",
      "Validation Accuracy = 0.921\n",
      "\n",
      "EPOCH 70 ...\n",
      "Validation Accuracy = 0.927\n",
      "\n",
      "EPOCH 71 ...\n",
      "Validation Accuracy = 0.926\n",
      "\n",
      "EPOCH 72 ...\n",
      "Validation Accuracy = 0.927\n",
      "\n",
      "EPOCH 73 ...\n",
      "Validation Accuracy = 0.926\n",
      "\n",
      "EPOCH 74 ...\n",
      "Validation Accuracy = 0.926\n",
      "\n",
      "EPOCH 75 ...\n",
      "Validation Accuracy = 0.935\n",
      "\n",
      "EPOCH 76 ...\n",
      "Validation Accuracy = 0.924\n",
      "\n",
      "EPOCH 77 ...\n",
      "Validation Accuracy = 0.929\n",
      "\n",
      "EPOCH 78 ...\n",
      "Validation Accuracy = 0.929\n",
      "\n",
      "EPOCH 79 ...\n",
      "Validation Accuracy = 0.928\n",
      "\n",
      "EPOCH 80 ...\n",
      "Validation Accuracy = 0.929\n",
      "\n",
      "EPOCH 81 ...\n",
      "Validation Accuracy = 0.926\n",
      "\n",
      "EPOCH 82 ...\n",
      "Validation Accuracy = 0.928\n",
      "\n",
      "EPOCH 83 ...\n",
      "Validation Accuracy = 0.936\n",
      "\n",
      "EPOCH 84 ...\n",
      "Validation Accuracy = 0.924\n",
      "\n",
      "EPOCH 85 ...\n",
      "Validation Accuracy = 0.926\n",
      "\n",
      "EPOCH 86 ...\n",
      "Validation Accuracy = 0.932\n",
      "\n",
      "EPOCH 87 ...\n",
      "Validation Accuracy = 0.924\n",
      "\n",
      "EPOCH 88 ...\n",
      "Validation Accuracy = 0.927\n",
      "\n",
      "EPOCH 89 ...\n",
      "Validation Accuracy = 0.929\n",
      "\n",
      "EPOCH 90 ...\n",
      "Validation Accuracy = 0.926\n",
      "\n",
      "EPOCH 91 ...\n",
      "Validation Accuracy = 0.928\n",
      "\n",
      "EPOCH 92 ...\n",
      "Validation Accuracy = 0.928\n",
      "\n",
      "EPOCH 93 ...\n",
      "Validation Accuracy = 0.924\n",
      "\n",
      "EPOCH 94 ...\n",
      "Validation Accuracy = 0.920\n",
      "\n",
      "EPOCH 95 ...\n",
      "Validation Accuracy = 0.923\n",
      "\n",
      "EPOCH 96 ...\n",
      "Validation Accuracy = 0.930\n",
      "\n",
      "EPOCH 97 ...\n",
      "Validation Accuracy = 0.930\n",
      "\n",
      "EPOCH 98 ...\n",
      "Validation Accuracy = 0.932\n",
      "\n",
      "EPOCH 99 ...\n",
      "Validation Accuracy = 0.923\n",
      "\n",
      "EPOCH 100 ...\n",
      "Validation Accuracy = 0.929\n",
      "\n",
      "Model saved\n"
     ]
    }
   ],
   "source": [
    "with tf.Session() as sess:\n",
    "    sess.run(tf.global_variables_initializer())\n",
    "    num_examples = len(X_train)\n",
    "    \n",
    "    print(\"Training...\")\n",
    "    print()\n",
    "    for i in range(EPOCHS):\n",
    "        X_train, y_train = shuffle(X_train, y_train)\n",
    "        for offset in range(0, num_examples, BATCH_SIZE):\n",
    "            end = offset + BATCH_SIZE\n",
    "            batch_x, batch_y = X_train[offset:end], y_train[offset:end]\n",
    "            sess.run(training_operation, feed_dict={x: batch_x, y: batch_y})\n",
    "            \n",
    "        validation_accuracy = evaluate(X_validation, y_validation)\n",
    "        print(\"EPOCH {} ...\".format(i+1))\n",
    "        print(\"Validation Accuracy = {:.3f}\".format(validation_accuracy))\n",
    "        print()\n",
    "        \n",
    "    saver.save(sess, './lenet')\n",
    "    print(\"Model saved\")"
   ]
  },
  {
   "cell_type": "markdown",
   "metadata": {},
   "source": [
    "## Evaluate the Model\n",
    "Once you are completely satisfied with your model, evaluate the performance of the model on the test set.\n",
    "\n",
    "Be sure to only do this once!\n",
    "\n",
    "If you were to measure the performance of your trained model on the test set, then improve your model, and then measure the performance of your model on the test set again, that would invalidate your test results. You wouldn't get a true measure of how well your model would perform against real data.\n",
    "\n",
    "You do not need to modify this section."
   ]
  },
  {
   "cell_type": "code",
   "execution_count": null,
   "metadata": {
    "collapsed": true
   },
   "outputs": [],
   "source": [
    "with tf.Session() as sess:\n",
    "    saver.restore(sess, tf.train.latest_checkpoint('.'))\n",
    "\n",
    "    test_accuracy = evaluate(X_test, y_test)\n",
    "    print(\"Test Accuracy = {:.3f}\".format(test_accuracy))"
   ]
  },
  {
   "cell_type": "code",
   "execution_count": null,
   "metadata": {
    "collapsed": true
   },
   "outputs": [],
   "source": []
  }
 ],
 "metadata": {
  "anaconda-cloud": {},
  "kernelspec": {
   "display_name": "Python 3",
   "language": "python",
   "name": "python3"
  },
  "language_info": {
   "codemirror_mode": {
    "name": "ipython",
    "version": 3
   },
   "file_extension": ".py",
   "mimetype": "text/x-python",
   "name": "python",
   "nbconvert_exporter": "python",
   "pygments_lexer": "ipython3",
   "version": "3.6.1"
  },
  "widgets": {
   "state": {},
   "version": "1.1.2"
  }
 },
 "nbformat": 4,
 "nbformat_minor": 1
}
