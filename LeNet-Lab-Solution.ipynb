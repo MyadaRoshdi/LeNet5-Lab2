{
 "cells": [
  {
   "cell_type": "markdown",
   "metadata": {},
   "source": [
    "## Load Data\n",
    "\n",
    "This part is modified to load the Traffic Sign Classifier data, input image: (32x32x3), output: 43"
   ]
  },
  {
   "cell_type": "code",
   "execution_count": 1,
   "metadata": {},
   "outputs": [
    {
     "name": "stdout",
     "output_type": "stream",
     "text": [
      "\n",
      "Image Shape: (32, 32, 3)\n",
      "\n",
      "Training Set:   34799 samples\n",
      "Validation Set: 4410 samples\n",
      "Test Set:       12630 samples\n",
      "Target outputs before shuffle:\n",
      "[41 41 41 41 41 41 41 41 41 41 41 41 41 41 41 41 41 41 41 41 41 41 41 41 41\n",
      " 41 41 41 41 41 41 41 41 41 41 41 41 41 41 41 41 41 41 41 41 41 41 41 41 41\n",
      " 41 41 41 41 41 41 41 41 41 41 41 41 41 41 41 41 41 41 41 41 41 41 41 41 41\n",
      " 41 41 41 41 41 41 41 41 41 41 41 41 41 41 41 41 41 41 41 41 41 41 41 41 41\n",
      " 41 41 41 41 41 41 41 41 41 41 41 41 41 41 41 41 41 41 41 41 41 41 41 41 41\n",
      " 41 41 41 41 41 41 41 41 41 41 41 41 41 41 41 41 41 41 41 41 41 41 41 41 41\n",
      " 41 41 41 41 41 41 41 41 41 41 41 41 41 41 41 41 41 41 41 41 41 41 41 41 41\n",
      " 41 41 41 41 41 41 41 41 41 41 41 41 41 41 41 41 41 41 41 41 41 41 41 41 41\n",
      " 41 41 41 41 41 41 41 41 41 41 31 31 31 31 31 31 31 31 31 31 31 31 31 31 31\n",
      " 31 31 31 31 31 31 31 31 31 31 31 31 31 31 31 31 31 31 31 31 31 31 31 31 31\n",
      " 31 31 31 31 31 31 31 31 31 31 31 31 31 31 31 31 31 31 31 31 31 31 31 31 31\n",
      " 31 31 31 31 31 31 31 31 31 31 31 31 31 31 31 31 31 31 31 31 31 31 31 31 31\n",
      " 31 31 31 31 31 31 31 31 31 31 31 31 31 31 31 31 31 31 31 31 31 31 31 31 31\n",
      " 31 31 31 31 31 31 31 31 31 31 31 31 31 31 31 31 31 31 31 31 31 31 31 31 31\n",
      " 31 31 31 31 31 31 31 31 31 31 31 31 31 31 31 31 31 31 31 31 31 31 31 31 31\n",
      " 31 31 31 31 31 31 31 31 31 31 31 31 31 31 31 31 31 31 31 31 31 31 31 31 31\n",
      " 31 31 31 31 31 31 31 31 31 31 31 31 31 31 31 31 31 31 31 31 31 31 31 31 31\n",
      " 31 31 31 31 31 31 31 31 31 31 31 31 31 31 31 31 31 31 31 31 31 31 31 31 31\n",
      " 31 31 31 31 31 31 31 31 31 31 31 31 31 31 31 31 31 31 31 31 31 31 31 31 31\n",
      " 31 31 31 31 31 31 31 31 31 31 31 31 31 31 31 31 31 31 31 31 31 31 31 31 31\n",
      " 31 31 31 31 31 31 31 31 31 31 31 31 31 31 31 31 31 31 31 31 31 31 31 31 31\n",
      " 31 31 31 31 31 31 31 31 31 31 31 31 31 31 31 31 31 31 31 31 31 31 31 31 31\n",
      " 31 31 31 31 31 31 31 31 31 31 31 31 31 31 31 31 31 31 31 31 31 31 31 31 31\n",
      " 31 31 31 31 31 31 31 31 31 31 31 31 31 31 31 31 31 31 31 31 31 31 31 31 31\n",
      " 31 31 31 31 31 31 31 31 31 31 31 31 31 31 31 31 31 31 31 31 31 31 31 31 31\n",
      " 31 31 31 31 31 31 31 31 31 31 31 31 31 31 31 31 31 31 31 31 31 31 31 31 31\n",
      " 31 31 31 31 31 31 31 31 31 31 31 31 31 31 31 31 31 31 31 31 31 31 31 31 31\n",
      " 31 31 31 31 31 31 31 31 31 31 31 31 31 31 31 31 31 31 31 31 31 31 31 31 31\n",
      " 31 31 31 31 31 31 31 31 31 31 31 31 31 31 31 31 31 31 31 31 31 31 31 31 31\n",
      " 31 31 31 31 31 31 31 31 31 31 31 31 31 31 31 31 31 31 31 31 31 31 31 31 31\n",
      " 31 31 31 31 31 31 31 31 31 31 31 31 31 31 31 31 31 31 31 31 31 31 31 31 31\n",
      " 31 31 31 31 31 31 31 31 31 31 31 31 31 31 31 31 31 31 31 31 31 31 31 31 31\n",
      " 31 31 31 31 31 31 31 31 31 31 31 31 31 31 31 31 31 31 31 31 31 31 31 31 31\n",
      " 31 31 31 31 31 31 31 31 31 31 31 31 31 31 31 31 31 31 31 31 31 31 31 31 31\n",
      " 31 31 31 31 31 31 31 31 31 31 31 31 31 31 31 31 31 31 31 31 31 31 31 31 31\n",
      " 31 31 31 31 31 31 31 31 31 31 31 31 31 31 31 31 31 31 31 31 31 31 31 31 31\n",
      " 36 36 36 36 36 36 36 36 36 36 36 36 36 36 36 36 36 36 36 36 36 36 36 36 36\n",
      " 36 36 36 36 36 36 36 36 36 36 36 36 36 36 36 36 36 36 36 36 36 36 36 36 36\n",
      " 36 36 36 36 36 36 36 36 36 36 36 36 36 36 36 36 36 36 36 36 36 36 36 36 36\n",
      " 36 36 36 36 36 36 36 36 36 36 36 36 36 36 36 36 36 36 36 36 36 36 36 36 36]\n"
     ]
    }
   ],
   "source": [
    "# Load pickled data\n",
    "import pickle\n",
    "\n",
    "# TODO: Fill this in based on where you saved the training and testing data\n",
    "\n",
    "training_file = 'train.p'\n",
    "validation_file= 'valid.p'\n",
    "testing_file = 'test.p'\n",
    "\n",
    "with open(training_file, mode='rb') as f:\n",
    "    train = pickle.load(f)\n",
    "with open(validation_file, mode='rb') as f:\n",
    "    valid = pickle.load(f)\n",
    "with open(testing_file, mode='rb') as f:\n",
    "    test = pickle.load(f)\n",
    "    \n",
    "X_train, y_train = train['features'], train['labels']\n",
    "X_validation, y_validation = valid['features'], valid['labels']\n",
    "X_test, y_test = test['features'], test['labels']\n",
    "\n",
    "assert(len(X_train) == len(y_train))\n",
    "assert(len(X_validation) == len(y_validation))\n",
    "assert(len(X_test) == len(y_test))\n",
    "\n",
    "print()\n",
    "print(\"Image Shape: {}\".format(X_train[0].shape))\n",
    "print()\n",
    "print(\"Training Set:   {} samples\".format(len(X_train)))\n",
    "print(\"Validation Set: {} samples\".format(len(X_validation)))\n",
    "print(\"Test Set:       {} samples\".format(len(X_test)))\n",
    "print(\"Target outputs before shuffle:\")\n",
    "print(y_train[0:1000])"
   ]
  },
  {
   "cell_type": "markdown",
   "metadata": {},
   "source": [
    "## Visualize Data\n",
    "\n",
    "View a sample from the dataset.\n",
    "\n"
   ]
  },
  {
   "cell_type": "code",
   "execution_count": 2,
   "metadata": {
    "scrolled": true
   },
   "outputs": [
    {
     "name": "stdout",
     "output_type": "stream",
     "text": [
      "visualize 5- random images from training dataset\n",
      "Datasets Mean values BEFORE Normalization are: \n",
      "\n",
      "Training set : 82.6775890369964 \n",
      "Validation set: 83.55642737563775 \n",
      "Testing set : 82.14846036120183 \n",
      "Trainint set dimension is: (34799, 32, 32, 3)\n"
     ]
    },
    {
     "data": {
      "image/png": "[encoded data removed]",
      "text/plain": [
       "<matplotlib.figure.Figure at 0x74b6160>"
      ]
     },
     "metadata": {},
     "output_type": "display_data"
    }
   ],
   "source": [
    "import random\n",
    "import numpy as np\n",
    "import matplotlib.pyplot as plt\n",
    "%matplotlib inline\n",
    "\n",
    "# Visualize 5- random images from training dataset\n",
    "print(\"visualize 5- random images from training dataset\")\n",
    "fig, axs = plt.subplots(1,5, figsize=(15, 6))\n",
    "fig.subplots_adjust(hspace = .2, wspace=.2)\n",
    "axs = axs.ravel()\n",
    "for i in range(5):\n",
    "    index = random.randint(0, len(X_train))\n",
    "    image = X_train[index]\n",
    "    axs[i].axis('off')\n",
    "    axs[i].imshow(image)\n",
    "    axs[i].set_title(y_train[index])\n",
    "\n",
    "# printing the mean values for every dataset\n",
    "X_train_mean= np.mean(X_train)\n",
    "X_validation_mean= np.mean(X_validation)\n",
    "X_test_mean= np.mean(X_test)\n",
    "print(\"Datasets Mean values BEFORE Normalization are: \\n\")\n",
    "print(\"Training set : {} \".format(X_train_mean))\n",
    "print(\"Validation set: {} \".format(X_validation_mean))\n",
    "print(\"Testing set : {} \".format(X_test_mean))\n",
    "print(\"Trainint set dimension is: {}\".format(X_train.shape))"
   ]
  },
  {
   "cell_type": "markdown",
   "metadata": {},
   "source": [
    "## Preprocess Data"
   ]
  },
  {
   "cell_type": "markdown",
   "metadata": {},
   "source": [
    "Pre-process the Data Set (normalization, grayscale, etc.)\n",
    "Minimally, the image data should be normalized so that the data has mean zero and equal variance. For image data, (pixel - 128)/ 128 is a quick way to approximately normalize the data and can be used in this project."
   ]
  },
  {
   "cell_type": "code",
   "execution_count": 3,
   "metadata": {},
   "outputs": [
    {
     "name": "stdout",
     "output_type": "stream",
     "text": [
      "9\n",
      "Grayscale Image Shape: (32, 32, 1)\n"
     ]
    },
    {
     "data": {
      "image/png": "[encoded data removed]",
      "text/plain": [
       "<matplotlib.figure.Figure at 0x4a8eb70>"
      ]
     },
     "metadata": {},
     "output_type": "display_data"
    }
   ],
   "source": [
    "\n",
    "# Convert to grayscale, \n",
    "X_train = np.sum(X_train/3, axis=3, keepdims=True)\n",
    "X_validation = np.sum(X_validation/3, axis=3, keepdims=True)\n",
    "X_test = np.sum(X_test/3, axis=3, keepdims=True)\n",
    "\n",
    "\n",
    "\n",
    "\n",
    "# visualize 1- Random image after grayscale conversion from training dataset\n",
    "index = random.randint(0, len(X_train))\n",
    "image = X_train[index].squeeze()\n",
    "plt.figure(figsize=(1,1))\n",
    "plt.imshow(image, cmap=\"gray\")\n",
    "print(y_train[index])\n",
    "\n",
    "# printing the data image dimension now after converting to grayscale\n",
    "print(\"Grayscale Image Shape: {}\".format(X_train[0].shape))\n",
    "\n",
    "\n",
    "\n",
    "\n"
   ]
  },
  {
   "cell_type": "code",
   "execution_count": 4,
   "metadata": {},
   "outputs": [
    {
     "name": "stdout",
     "output_type": "stream",
     "text": [
      "3\n"
     ]
    },
    {
     "data": {
      "image/png": "[encoded data removed]",
      "text/plain": [
       "<matplotlib.figure.Figure at 0x4ab2dd8>"
      ]
     },
     "metadata": {},
     "output_type": "display_data"
    }
   ],
   "source": [
    "# Normalize the data (pixel - 128)/ 128\n",
    "\n",
    "X_train = (X_train - 128)/128\n",
    "X_validation = (X_validation - 128)/128\n",
    "X_test = (X_test - 128)/128\n",
    "\n",
    "# visualize 1- Random image after Normalization from training dataset\n",
    "index = random.randint(0, len(X_train))\n",
    "image = X_train[index].squeeze()\n",
    "plt.figure(figsize=(1,1))\n",
    "plt.imshow(image, cmap=\"gray\")\n",
    "print(y_train[index])"
   ]
  },
  {
   "cell_type": "markdown",
   "metadata": {},
   "source": [
    "## Another method for Normalizing grayscale\n",
    "\n",
    "Implement the Min-Max scaling function ($X'=a+{\\frac {\\left(X-X_{\\min }\\right)\\left(b-a\\right)}{X_{\\max }-X_{\\min }}}$) with the parameters:\n",
    "$X_{\\min }=0$\n",
    "$X_{\\max }=255$\n",
    "$a=0.1$\n",
    "$b=0.9$"
   ]
  },
  {
   "cell_type": "code",
   "execution_count": null,
   "metadata": {
    "collapsed": true
   },
   "outputs": [],
   "source": [
    "a = 0.1\n",
    "b = 0.9\n",
    "grayscale_min = 0\n",
    "grayscale_max = 255\n",
    "\n",
    "X_train = a + ( ( (X_train - grayscale_min)*(b - a) )/( grayscale_max - grayscale_min ) )\n",
    "X_validation = a + ( ( (X_validation - grayscale_min)*(b - a) )/( grayscale_max - grayscale_min ) )\n",
    "X_test = a + ( ( (X_test - grayscale_min)*(b - a) )/( grayscale_max - grayscale_min ) )\n",
    "\n",
    "# visualize 1- Random image after Normalization from training dataset\n",
    "index = random.randint(0, len(X_train))\n",
    "image = X_train[index].squeeze()\n",
    "plt.figure(figsize=(1,1))\n",
    "plt.imshow(image, cmap=\"gray\")\n",
    "print(y_train[index])"
   ]
  },
  {
   "cell_type": "markdown",
   "metadata": {},
   "source": [
    "Calculatng Mean Values of Training, validation and testing datasets after Noramlization ( Should be around 0)"
   ]
  },
  {
   "cell_type": "code",
   "execution_count": null,
   "metadata": {},
   "outputs": [],
   "source": [
    "\n",
    "\n",
    "# printing the mean values for every dataset\n",
    "X_train_N_mean= np.mean(X_train)\n",
    "X_validation_N_mean= np.mean(X_validation)\n",
    "X_test_N_mean= np.mean(X_test)\n",
    "print(\"Datasets Mean values AFTER Normalization are: \\n\")\n",
    "print(\"Training set : {} \".format(X_train_N_mean))\n",
    "print(\"Validation set: {} \".format(X_validation_N_mean))\n",
    "print(\"Testing set : {} \".format(X_test_N_mean))\n",
    "print(\"Trainint set dimension is: {}\".format(X_train.shape))\n",
    "\n"
   ]
  },
  {
   "cell_type": "code",
   "execution_count": null,
   "metadata": {
    "collapsed": true
   },
   "outputs": [],
   "source": []
  },
  {
   "cell_type": "markdown",
   "metadata": {},
   "source": [
    "\n",
    "Shuffle the training data.\n"
   ]
  },
  {
   "cell_type": "code",
   "execution_count": 8,
   "metadata": {},
   "outputs": [
    {
     "name": "stdout",
     "output_type": "stream",
     "text": [
      "Target outputs after shuffle:\n",
      "[12 18 24  3  2  3 11 27 14 10 39  1  1 40  4 25 10  7  4 13 10  7 18 17 17\n",
      "  4 13 16  9 38 17 40 25 26 12 18 15 17  0 25  9 13 34 20 11 33 18 12 31 25\n",
      "  1  9 35  5 24 35 35  7  9 15 12 15 39 26  9  4 11 11 31 33 12 20 29  4  3\n",
      " 13 13 22 11 33  5  9 36 41  3 14 18  1 18 18  1  2 35 10 26 15 35  6 42 35\n",
      "  1  8 13  5 10 28  1  4 32  1 15 34 28 12 41  5 18 12  5 13 40 25  9 24  1\n",
      "  5 23 12 32  4 28 13 27 23  1 38 30 38  2 17 26 17 21  5  8 33 38  2  0  4\n",
      " 10 31 11 38  2  2  0 11 12 10 12  9 13 36  9 14 19 10 11  9 26 34 25  4 23\n",
      " 13 29 34 26  5 34 33  5  1 22 27  2  0  9  7 12 12  9  7 12  2  2  7  4 31\n",
      "  7 15  4 18 16  5  5 11 25 25 11  7 25 33  5 37 11  4  4 25  7  0 25 13 18\n",
      " 16 17 39 13  5 24  4 28  2 18  5 30 38 13  9 24 27 40  8  1  2  5  6 33 35\n",
      " 23 33 10  7  4 36  1 35  3 17  2 40 38 23 18 27  4 18  3  9 26  2 15  8  9\n",
      " 17  4 11 31  9 27 40 18  5  9 41 13 33 25 25  4 38 22  1 12  2  8  8  5 31\n",
      " 13 12 14 25 42 22 39  1 26  9  3  3 13 30  2  7 13  5  9 14 13  8  2 38 11\n",
      " 35  2 25  5 10 18 20 38 37  7  3 10 38 29  1 12 25  8 17 35 13  7  4 26 30\n",
      "  5 18  2 35 11  4 21  8 36  1 25 28 25 13 25 19 28  1  2 34 21 31  2 23  5\n",
      " 40  4 10 12 38 10  2  6 38 40  5  5  2 25 17  4  9 30  1  1 33 14 12 35  2\n",
      "  5  1 38 25 12  4  2 25  1 25  1 12 33 14  8  3 25 26  4 31 25 17 13 36  7\n",
      " 18  5 42 34 11  3 16 33  8 28 11  3  4  4  5 25 35 40 25 12 11 35 12 18 13\n",
      " 36  5  2 13 27  1  5  2 10 10 38 13  3 12 24  0  8 41 10 21 12 42 35 13  2\n",
      "  5  9  4  4 26  8  1  2 25  3 28 17 31 25  1 14  1  1  1 38  1  5  5 15  2\n",
      " 11  7 25 38 38  4 22 39 21 33  1 12 14 12  9 12 21  5 15 35 14  3 35 40  2\n",
      "  2  4 18 33  3 12  5 28 13  4  3 14 13  5  4 25  9  1 10 35 36  1 31  5 17\n",
      "  1  5 38  4 38 25  1 23 28 31  2 17 38 11  3 13 38 25 42  9  2  6 35  4 35\n",
      "  7 12 35 12 22 17 13 12 18 34  8 10 15 13  9  4 11 39  5  4  3  8  7 33 13\n",
      "  5 11  4  3  8 14 13 17 25  6 10 12 13 11  4 10 38  1  4  2 32  3 11  2 11\n",
      "  7 20 35 14 38  4  5 24 13 38  1  2  3  7 35 13  8  4  0 35 11  9  9 31 10\n",
      " 12 38 40  1  5 26 13  8 11  2  2 11 13 15 18 25 10  3 10 38 17  4 38 18 25\n",
      " 31 12  4 28 12 23  5  9 25 38 25 14 35 35  4 14 17 12  7 33 25 25  7 36 12\n",
      " 38  8  7 28 31 13 33  4 36 12 35 25 10  0  7  5  1 16 33  2  7 30 24  8  2\n",
      "  3 11 15  9 17  9 23  1 12 17 33 25  5  4 25 38  1  2 12  1 14 35 15  9 28\n",
      " 13 35 12  4 15 23  5 13  5 23 16 10  1 22 11  5 20 13 13  3  1 15  9  8 26\n",
      "  8  9 40  4 10 38 12 25 33 25 39  4  5  5 39 14 32  2  8 40  1 25 14 31 12\n",
      " 26  6 13 12 23  8 38 12  1 18 28 12  3  5  2  8  2  9 38  2  5 13 25 25 21\n",
      "  2 10 25 25 12 29  4 25 36 40 40  9  5  9 39 13 17 25  9 31  8  2  7 35 11\n",
      " 18 12 18 12 25 10  5 26  3 10 13 38  2 12  4  4 17 30 17 13 23  9  5 10  9\n",
      "  6 14 13 10 12 11 24 35 10 35 12 38 38 38 13  5 26  4 38 13 13 31 13 12 13\n",
      "  5  5 13 12 24  7  1 14 20 38 33 16  4 11 10  7  2 42 33 35 17 11 12 13  5\n",
      " 39 39 12  7 30 18 13 12 13 35 26 37  6 32 25  1  9 22  5 39 21  7  8 12 31\n",
      " 11  0 35 38 22  7  7  7 22 35  4  8 31  6 12 12 35  2  1 23  8 25 12 28 35\n",
      " 12 10  3  4 22  1 15 22 11 35 17  4  9 13 38 31 11 12 11  5  9 13 38  6 18]\n",
      "done\n"
     ]
    }
   ],
   "source": [
    "from sklearn.utils import shuffle\n",
    "\n",
    "X_train, y_train = shuffle(X_train, y_train)\n",
    "print(\"Target outputs after shuffle:\")\n",
    "print(y_train[0:1000])\n",
    "\n",
    "print('done')"
   ]
  },
  {
   "cell_type": "markdown",
   "metadata": {},
   "source": [
    "###  Augmenting Training set\n",
    "\n",
    "Augmenting the training set might help improve model performance. Common data augmentation techniques include rotation, translation, zoom, flips, and/or color perturbation. These techniques can be used individually or combined.\n"
   ]
  },
  {
   "cell_type": "markdown",
   "metadata": {
    "collapsed": true
   },
   "source": [
    "In this section, I used the input data processing techniques as suggested by the paper, now I have a jittered dataset by adding 5\n",
    "transformed versions of the original training set, yielding\n",
    "173,995 samples in total and a validation set of 22,050 samples."
   ]
  },
  {
   "cell_type": "markdown",
   "metadata": {},
   "source": [
    "## Image Rotation"
   ]
  },
  {
   "cell_type": "code",
   "execution_count": 14,
   "metadata": {},
   "outputs": [
    {
     "name": "stdout",
     "output_type": "stream",
     "text": [
      "An Image before Rotation: \n",
      "39\n",
      "An Image after Rotation: \n",
      "39\n",
      "Check matching the sign name after Rotation and concatenation: \n",
      "15\n",
      "\n",
      "Image Shape: (32, 32, 1)\n",
      "\n",
      "Training Set:   69598 samples\n",
      "Validation Set: 8820 samples\n",
      "Test Set:       12630 samples\n"
     ]
    },
    {
     "data": {
      "image/png": "[encoded data removed]",
      "text/plain": [
       "<matplotlib.figure.Figure at 0xa1db860>"
      ]
     },
     "metadata": {},
     "output_type": "display_data"
    },
    {
     "data": {
      "image/png": "[encoded data removed]",
      "text/plain": [
       "<matplotlib.figure.Figure at 0xa141320>"
      ]
     },
     "metadata": {},
     "output_type": "display_data"
    },
    {
     "data": {
      "image/png": "[encoded data removed]",
      "text/plain": [
       "<matplotlib.figure.Figure at 0x7f972b0>"
      ]
     },
     "metadata": {},
     "output_type": "display_data"
    }
   ],
   "source": [
    "import cv2\n",
    "\n",
    "\n",
    "\n",
    "def Rotating(input): \n",
    "    output = []\n",
    "    for i in range (len(input)):\n",
    "        # Choose a random angle between -15 and 15 to do the rotation\n",
    "        angle = np.random.randint(-15, 15)\n",
    "        img_center = tuple(np.array(input[i].shape)[:2]/2)\n",
    "        M = cv2.getRotationMatrix2D(img_center,angle,1.0)\n",
    "        img = cv2.warpAffine(input[i], M, input[i].shape[:2],flags=cv2.INTER_LINEAR)\n",
    "        img = img[:,:,np.newaxis]\n",
    "        output.append(img)\n",
    "    \n",
    "    \n",
    "    return output\n",
    "\n",
    "# Augmenting both training and validation datasets with Randomly rotated images, expecting a doupled sized datasets\n",
    "input = X_train\n",
    "input_y = y_train\n",
    "X_train_rotated = Rotating(input)\n",
    "valid = X_validation\n",
    "valid_y = y_validation\n",
    "X_validation_rotated= Rotating(valid)\n",
    "\n",
    "\n",
    "\n",
    "# display an Image before and after rotation\n",
    "\n",
    "\n",
    "print (\"An Image before Rotation: \")\n",
    "image = X_train[10].squeeze()\n",
    "plt.figure(figsize=(1,1))\n",
    "plt.imshow(image, cmap=\"gray\")\n",
    "print(y_train[10])\n",
    "\n",
    "\n",
    "print (\"An Image after Rotation: \")\n",
    "image = X_train_rotated[10].squeeze()\n",
    "plt.figure(figsize=(1,1))\n",
    "plt.imshow(image, cmap=\"gray\")\n",
    "print(y_train[10])\n",
    "    \n",
    "    \n",
    "X_train = np.concatenate((X_train, X_train_rotated), axis=0)\n",
    "y_train = np.concatenate((y_train, input_y), axis=0)\n",
    "\n",
    "X_validation = np.concatenate((X_validation, X_validation_rotated), axis=0)\n",
    "y_validation = np.concatenate((y_validation, valid_y), axis=0)\n",
    "\n",
    "\n",
    "print (\"Check matching the sign name after Rotation and concatenation: \")\n",
    "image = X_train[50000].squeeze()\n",
    "plt.figure(figsize=(1,1))\n",
    "plt.imshow(image, cmap=\"gray\")\n",
    "print(y_train[50000])\n",
    "\n",
    "# Shuffle new training data\n",
    "X_train, y_train = shuffle(X_train, y_train)\n",
    "\n",
    "# Shuffle new validation data\n",
    "X_validation, y_validation = shuffle(X_validation, y_validation)\n",
    "\n",
    "print()\n",
    "print(\"Image Shape: {}\".format(X_train[0].shape))\n",
    "print()\n",
    "print(\"Training Set:   {} samples\".format(len(X_train)))\n",
    "print(\"Validation Set: {} samples\".format(len(X_validation)))\n",
    "print(\"Test Set:       {} samples\".format(len(X_test)))"
   ]
  },
  {
   "cell_type": "code",
   "execution_count": null,
   "metadata": {
    "scrolled": true
   },
   "outputs": [],
   "source": [
    "# Adding scaled images as more samples\n",
    "# transrom the input data to rotated data then add to the input and shuffle both, expecting to have # of training samples= 69,598\n",
    "# and # of validation samples= 8820 samples\n",
    "\n",
    "\n",
    "def Scaling(input): \n",
    "    output = []\n",
    "    for i in range (len(input)):\n",
    "        rows,cols,_ = input[i].shape\n",
    "\n",
    "        # transform limits\n",
    "        px = np.random.randint(-2,2)\n",
    "        \n",
    "        # ending locations\n",
    "        pts1 = np.float32([[px,px],[rows-px,px],[px,cols-px],[rows-px,cols-px]])\n",
    "        \n",
    "        # starting locations (4 corners)\n",
    "        pts2 = np.float32([[0,0],[rows,0],[0,cols],[rows,cols]])\n",
    "        \n",
    "        M = cv2.getPerspectiveTransform(pts1,pts2)\n",
    "        img = cv2.warpPerspective(input[i],M,(rows,cols))\n",
    "        img = img[:,:,np.newaxis]\n",
    "        output.append(img)\n",
    "    \n",
    "    \n",
    "    return output\n",
    "\n",
    "\n",
    "input = X_train[0:15000]\n",
    "input_y = y_train[0:15000]\n",
    "X_train_scaled = Scaling(input)\n",
    "valid = X_validation[0:2000]\n",
    "valid_y = y_validation[0:2000]\n",
    "X_validation_scaled= Scaling(valid)\n",
    "\n",
    "\n",
    "# display an Image before and after Scaling\n",
    "\n",
    "\n",
    "print (\"An Image before Scaling: \")\n",
    "image = X_train[15].squeeze()\n",
    "plt.figure(figsize=(1,1))\n",
    "plt.imshow(image, cmap=\"gray\")\n",
    "print(y_train[15])\n",
    "\n",
    "\n",
    "print (\"An Image after Scaling: \")\n",
    "image = X_train_scaled[15].squeeze()\n",
    "plt.figure(figsize=(1,1))\n",
    "plt.imshow(image, cmap=\"gray\")\n",
    "print(y_train[15])\n",
    "\n",
    "X_train = np.concatenate((X_train, X_train_scaled), axis=0)\n",
    "y_train = np.concatenate((y_train, input_y), axis=0)\n",
    "\n",
    "X_validation = np.concatenate((X_validation, X_validation_scaled), axis=0)\n",
    "y_validation = np.concatenate((y_validation, valid_y), axis=0)\n",
    "\n",
    "\n",
    "print (\"Check matching the sign name after scaling and concatenation: \")\n",
    "image = X_train[45000].squeeze()\n",
    "plt.figure(figsize=(1,1))\n",
    "plt.imshow(image, cmap=\"gray\")\n",
    "print(y_train[45000])\n",
    "\n",
    "\n",
    "\n",
    "# Shuffle new training data\n",
    "X_train, y_train = shuffle(X_train, y_train)\n",
    "\n",
    "# Shuffle new validation data\n",
    "X_validation, y_validation = shuffle(X_validation, y_validation)\n",
    "\n",
    "print()\n",
    "print(\"Image Shape: {}\".format(X_train[0].shape))\n",
    "print()\n",
    "print(\"Training Set:   {} samples\".format(len(X_train)))\n",
    "print(\"Validation Set: {} samples\".format(len(X_validation)))\n",
    "print(\"Test Set:       {} samples\".format(len(X_test)))\n",
    "\n"
   ]
  },
  {
   "cell_type": "code",
   "execution_count": null,
   "metadata": {
    "collapsed": true
   },
   "outputs": [],
   "source": []
  },
  {
   "cell_type": "code",
   "execution_count": null,
   "metadata": {
    "collapsed": true
   },
   "outputs": [],
   "source": [
    "def Brighness(input): \n",
    "    output = []\n",
    "    print(\"Image dimension before Brighness application: \", input[0].shape)\n",
    "    for i in range (len(input)):\n",
    "        img= input[i]\n",
    "        shifted = img + 1.0   # shift to (0,2) range\n",
    "        img_max_value = max(shifted.flatten())\n",
    "        max_coef = 2.0/img_max_value\n",
    "        min_coef = max_coef - 0.1\n",
    "        coef = np.random.uniform(min_coef, max_coef)\n",
    "        dst = shifted * coef - 1.0\n",
    "        output.append(dst)\n",
    "    \n",
    "    return output\n",
    "# take 35000 image from training set to do brighness over it then suffle it\n",
    "input = X_train[0:35000]\n",
    "input_y = y_train[0:35000]\n",
    "print(\" x-train-bright \", len(input))\n",
    "print(\"y-train-bright\", len(input_y))\n",
    "\n",
    "X_train_Brighness= Brighness(input)\n",
    "print(\"X-train-Brighness\", len(X_train_Brighness))\n",
    "\n",
    "valid = X_validation[0:3500]\n",
    "print(\" x-valid-bright \", len(valid))\n",
    "\n",
    "valid_y = y_validation[0:3500]\n",
    "print(\" y-valid-bright \", len(valid_y))\n",
    "\n",
    "X_validation_Brighness= Brighness(valid)\n",
    "print(\"X_validation_Brighness\", len(X_validation_Brighness))\n",
    "\n",
    "print(\"x_train befor brighness augmentation\", len(X_train))\n",
    "print(\"y_train before brighness augmentation\", len(y_train))\n",
    "\n",
    "\n",
    "X_train = np.concatenate((X_train, X_train_Brighness), axis=0)\n",
    "y_train = np.concatenate((y_train, input_y), axis=0)\n",
    "print(\"x_train_final\", len(X_train))\n",
    "print(\"y_train_final\", len(y_train))\n",
    "\n",
    "\n",
    "X_validation = np.concatenate((X_validation, X_validation_Brighness), axis=0)\n",
    "y_validation = np.concatenate((y_validation, valid_y), axis=0)\n",
    "print(\"x_validation_final\", len(X_validation))\n",
    "print(\"y_validation_final\", len(y_validation))\n",
    "\n",
    "\n",
    "\n",
    "\n",
    "\n",
    "# Shuffle new training data\n",
    "X_train, y_train = shuffle(X_train, y_train)\n",
    "\n",
    "# Shuffle new validation data\n",
    "X_validation, y_validation = shuffle(X_validation, y_validation)\n",
    "\n",
    "print()\n",
    "print(\"Image Shape: {}\".format(X_train[0].shape))\n",
    "print()\n",
    "print(\"Training Set:   {} samples\".format(len(X_train)))\n",
    "print(\"Validation Set: {} samples\".format(len(X_validation)))\n",
    "print(\"Test Set:       {} samples\".format(len(X_test)))\n"
   ]
  },
  {
   "cell_type": "markdown",
   "metadata": {},
   "source": [
    "## Data Augmentation Using [Augmentator library](http://augmentor.readthedocs.io/en/master/userguide/mainfeatures.html)\n",
    "Augmentor applies operations to images stochastically as they pass through the pipeline, according to a user-defined probability value for each operation."
   ]
  },
  {
   "cell_type": "code",
   "execution_count": null,
   "metadata": {
    "scrolled": true
   },
   "outputs": [],
   "source": [
    "import Augmentor\n",
    "\n",
    "#f2w=open(\"temp\",'w')\n",
    "#f2w.write(X_train)\n",
    "#f2w.close()\n",
    "\n",
    "\n",
    "    \n",
    "p = Augmentor.Pipeline(\"C:\\\\Users\\\\Noura\\\\Desktop\\\\Udacity\\\\Assignments\\\\Lab2_Tensorflow\\\\CarND-LeNet-Lab\")\n",
    "\n",
    "p.status()\n",
    "# The max_left_rotation and max_right_rotation controls the degree by which the image is rotated\n",
    "# Sample image before rotation\n",
    "\n",
    "p.rotate90(probability=0.5)\n",
    "\n",
    "# Sample image after rotation\n",
    "p.status()\n",
    "\n",
    "#generate 10,000 augmented images based on your specifications. By default these will be written to the disk in a directory named output relative to the path specified when initialising the p pipeline object above.\n",
    "#p.sample(10000)\n",
    "# Now we can sample from the pipeline:\n",
    "p.sample(5)\n",
    "\n",
    "# Returns a batch of images of size 128 and their corresponding labels. Generators return data.\n",
    "#g = p.keras_generator(batch_size=128)\n",
    "#X_train_rotate, y_train_rotate = next(g)"
   ]
  },
  {
   "cell_type": "markdown",
   "metadata": {},
   "source": [
    "## Setup TensorFlow\n",
    "The `EPOCH` and `BATCH_SIZE` values affect the training speed and model accuracy.\n",
    "\n",
    "You do not need to modify this section."
   ]
  },
  {
   "cell_type": "code",
   "execution_count": null,
   "metadata": {
    "collapsed": true
   },
   "outputs": [],
   "source": [
    "import tensorflow as tf\n",
    "\n",
    "EPOCHS = 100\n",
    "BATCH_SIZE = 150\n",
    "dropout = 0.5"
   ]
  },
  {
   "cell_type": "markdown",
   "metadata": {},
   "source": [
    "## Original LeNet-5\n",
    "Implement the [LeNet-5](http://yann.lecun.com/exdb/lenet/) neural network architecture.\n",
    "![LeNet Architecture](lenet.png)\n",
    "Source: Yan LeCun\n",
    "\n",
    "\n",
    "\n",
    "### Input\n",
    "The LeNet architecture accepts a 32x32xC image as input, where C is the number of color channels. C is 1 in this case, since we are working on a grayscale Images.\n",
    "\n",
    "### Architecture\n",
    "**Layer 1: Convolutional.** The output shape should be 28x28x6.\n",
    "\n",
    "**Activation.** Your choice of activation function.\n",
    "\n",
    "**Pooling.** The output shape should be 14x14x6.\n",
    "\n",
    "**Layer 2: Convolutional.** The output shape should be 10x10x16.\n",
    "\n",
    "**Activation.** Your choice of activation function.\n",
    "\n",
    "**Pooling.** The output shape should be 5x5x16.\n",
    "\n",
    "**Flatten.** Flatten the output shape of the final pooling layer such that it's 1D instead of 3D. The easiest way to do is by using `tf.contrib.layers.flatten`, which is already imported for you.\n",
    "\n",
    "**Layer 3: Fully Connected.** This should have 120 outputs.\n",
    "\n",
    "**Activation.** Your choice of activation function.\n",
    "\n",
    "**Layer 4: Fully Connected.** This should have 84 outputs.\n",
    "\n",
    "**Activation.** Your choice of activation function.\n",
    "\n",
    "**Layer 5: Fully Connected (Logits).** This should have 43 outputs.\n",
    "\n",
    "### Output\n",
    "Return the result of the 2nd fully connected layer."
   ]
  },
  {
   "cell_type": "code",
   "execution_count": null,
   "metadata": {
    "collapsed": true
   },
   "outputs": [],
   "source": [
    "from tensorflow.contrib.layers import flatten\n",
    "\n",
    "def LeNet(x):    \n",
    "    # Arguments used for tf.truncated_normal, randomly defines variables for the weights and biases for each layer\n",
    "    mu = 0\n",
    "    sigma = 0.1\n",
    "    \n",
    "    # SOLUTION: Layer 1: Convolutional. Input = 32x32x1. Output = 28x28x6.\n",
    "    conv1_W = tf.Variable(tf.truncated_normal(shape=(5, 5, 1, 6), mean = mu, stddev = sigma))\n",
    "    conv1_b = tf.Variable(tf.zeros(6))\n",
    "    conv1   = tf.nn.conv2d(x, conv1_W, strides=[1, 1, 1, 1], padding='VALID') + conv1_b\n",
    "\n",
    "    # SOLUTION: Activation.\n",
    "    conv1 = tf.nn.relu(conv1)\n",
    "\n",
    "    # SOLUTION: Pooling. Input = 28x28x6. Output = 14x14x6.\n",
    "    conv1 = tf.nn.max_pool(conv1, ksize=[1, 2, 2, 1], strides=[1, 2, 2, 1], padding='VALID')\n",
    "\n",
    "    # SOLUTION: Layer 2: Convolutional. Output = 10x10x16.\n",
    "    conv2_W = tf.Variable(tf.truncated_normal(shape=(5, 5, 6, 16), mean = mu, stddev = sigma))\n",
    "    conv2_b = tf.Variable(tf.zeros(16))\n",
    "    conv2   = tf.nn.conv2d(conv1, conv2_W, strides=[1, 1, 1, 1], padding='VALID') + conv2_b\n",
    "    \n",
    "    # SOLUTION: Activation.\n",
    "    conv2 = tf.nn.relu(conv2)\n",
    "\n",
    "    # SOLUTION: Pooling. Input = 10x10x16. Output = 5x5x16.\n",
    "    conv2 = tf.nn.max_pool(conv2, ksize=[1, 2, 2, 1], strides=[1, 2, 2, 1], padding='VALID')\n",
    "\n",
    "    # SOLUTION: Flatten. Input = 5x5x16. Output = 400.\n",
    "    fc0   = flatten(conv2)\n",
    "    \n",
    "    \n",
    "    # SOLUTION: Layer 3: Fully Connected. Input = 400. Output = 120.\n",
    "    fc1_W = tf.Variable(tf.truncated_normal(shape=(400, 120), mean = mu, stddev = sigma))\n",
    "    fc1_b = tf.Variable(tf.zeros(120))\n",
    "    fc1   = tf.matmul(fc0, fc1_W) + fc1_b\n",
    "    \n",
    "    # SOLUTION: Activation.\n",
    "    fc1    = tf.nn.relu(fc1)\n",
    "    \n",
    "\n",
    "    # SOLUTION: Layer 4: Fully Connected. Input = 120. Output = 84.\n",
    "    fc2_W  = tf.Variable(tf.truncated_normal(shape=(120, 84), mean = mu, stddev = sigma))\n",
    "    fc2_b  = tf.Variable(tf.zeros(84))\n",
    "    fc2    = tf.matmul(fc1, fc2_W) + fc2_b\n",
    "    \n",
    "    # SOLUTION: Activation.\n",
    "    fc2    = tf.nn.relu(fc2)\n",
    "    # ---> Using Dropout for Regularization \n",
    "    fc2 = tf.nn.dropout(fc2, dropout)\n",
    "\n",
    "    # SOLUTION: Layer 5: Fully Connected. Input = 84. Output = 10.\n",
    "    fc3_W  = tf.Variable(tf.truncated_normal(shape=(84, 43), mean = mu, stddev = sigma))\n",
    "    fc3_b  = tf.Variable(tf.zeros(43))\n",
    "    logits = tf.matmul(fc2, fc3_W) + fc3_b\n",
    "    \n",
    "    return logits\n",
    "print('done')"
   ]
  },
  {
   "cell_type": "markdown",
   "metadata": {},
   "source": [
    "## Modified LeNet5\n",
    "Using Suggested Architecture in [Traffic Sign Recognition with Multi-Scale Convolutional Networks](http://yann.lecun.com/exdb/publis/pdf/sermanet-ijcnn-11.pdf)"
   ]
  },
  {
   "cell_type": "markdown",
   "metadata": {},
   "source": [
    "![1-Suggested_Paper_Architecture.png](attachment:1-Suggested_Paper_Architecture.png)"
   ]
  },
  {
   "cell_type": "code",
   "execution_count": null,
   "metadata": {
    "collapsed": true
   },
   "outputs": [],
   "source": [
    "def LeNet_modified(x):    \n",
    "    # Arguments used for tf.truncated_normal, randomly defines variables for the weights and biases for each layer\n",
    "    # Hyperparameters\n",
    "    mu = 0\n",
    "    sigma = 0.1\n",
    "    \n",
    "    # TODO: Layer 1: Convolutional. Input = 32x32x1. Output = 28x28x6.\n",
    "    W1 = tf.Variable(tf.truncated_normal(shape=(5, 5, 1, 6), mean = mu, stddev = sigma), name=\"W1\")\n",
    "    x = tf.nn.conv2d(x, W1, strides=[1, 1, 1, 1], padding='VALID')\n",
    "    b1 = tf.Variable(tf.zeros(6), name=\"b1\")\n",
    "    x = tf.nn.bias_add(x, b1)\n",
    "    print(\"layer 1 shape:\",x.get_shape())\n",
    "\n",
    "    # TODO: Activation.\n",
    "    x = tf.nn.relu(x)\n",
    "    \n",
    "    # TODO: Pooling. Input = 28x28x6. Output = 14x14x6.\n",
    "    x = tf.nn.max_pool(x, ksize=[1, 2, 2, 1], strides=[1, 2, 2, 1], padding='VALID')\n",
    "    layer1 = x\n",
    "    layer1 = tf.nn.dropout(layer1, 0.9)\n",
    "    \n",
    "    # TODO: Layer 2: Convolutional. Output = 10x10x16.\n",
    "    W2 = tf.Variable(tf.truncated_normal(shape=(5, 5, 6, 16), mean = mu, stddev = sigma), name=\"W2\")\n",
    "    x = tf.nn.conv2d(x, W2, strides=[1, 1, 1, 1], padding='VALID')\n",
    "    b2 = tf.Variable(tf.zeros(16), name=\"b2\")\n",
    "    x = tf.nn.bias_add(x, b2)\n",
    "                     \n",
    "    # TODO: Activation.\n",
    "    x = tf.nn.relu(x)\n",
    "\n",
    "    # TODO: Pooling. Input = 10x10x16. Output = 5x5x16.\n",
    "    x = tf.nn.max_pool(x, ksize=[1, 2, 2, 1], strides=[1, 2, 2, 1], padding='VALID')\n",
    "    layer2 = x\n",
    "    layer2 = tf.nn.dropout(layer2, 0.8)\n",
    "    \n",
    "    # TODO: Layer 3: Convolutional. Output = 1x1x400.\n",
    "    W3 = tf.Variable(tf.truncated_normal(shape=(5, 5, 16, 400), mean = mu, stddev = sigma), name=\"W3\")\n",
    "    x = tf.nn.conv2d(x, W3, strides=[1, 1, 1, 1], padding='VALID')\n",
    "    b3 = tf.Variable(tf.zeros(400), name=\"b3\")\n",
    "    x = tf.nn.bias_add(x, b3)\n",
    "                     \n",
    "    # TODO: Activation.\n",
    "    x = tf.nn.relu(x)\n",
    "    layer3 = x\n",
    "    layer3 = tf.nn.dropout(layer3, 0.7)\n",
    "\n",
    "\n",
    "    # TODO: Flatten. Input = 5x5x16. Output = 400.\n",
    "    layer2flat = flatten(layer2)\n",
    "    print(\"layer2flat shape:\",layer2flat.get_shape())\n",
    "    \n",
    "    # Flatten x. Input = 1x1x400. Output = 400.\n",
    "    xflat = flatten(x)\n",
    "    print(\"xflat shape:\",xflat.get_shape())\n",
    "    \n",
    "    # Concat layer2flat and x. Input = 400 + 400. Output = 800\n",
    "    x = tf.concat_v2([xflat, layer2flat], 1)\n",
    "    print(\"x shape:\",x.get_shape())\n",
    "    \n",
    "    # Dropout\n",
    "    x = tf.nn.dropout(x, 0.5)\n",
    "    \n",
    "    # TODO: Layer 4: Fully Connected. Input = 800. Output = 43.\n",
    "    W4 = tf.Variable(tf.truncated_normal(shape=(800, 43), mean = mu, stddev = sigma), name=\"W4\")\n",
    "    b4 = tf.Variable(tf.zeros(43), name=\"b4\")    \n",
    "    logits = tf.add(tf.matmul(x, W4), b4)\n",
    "    \n",
    "    # TODO: Activation.\n",
    "    #x = tf.nn.relu(x)\n",
    "\n",
    "    # TODO: Layer 5: Fully Connected. Input = 120. Output = 84.\n",
    "    #W5 = tf.Variable(tf.truncated_normal(shape=(120, 84), mean = mu, stddev = sigma))\n",
    "    #b5 = tf.Variable(tf.zeros(84)) \n",
    "    #x = tf.add(tf.matmul(x, W5), b5)\n",
    "    \n",
    "    # TODO: Activation.\n",
    "    #x = tf.nn.relu(x)\n",
    "\n",
    "    # TODO: Layer 6: Fully Connected. Input = 84. Output = 43.\n",
    "    #W6 = tf.Variable(tf.truncated_normal(shape=(84, 43), mean = mu, stddev = sigma))\n",
    "    #b6 = tf.Variable(tf.zeros(43)) \n",
    "    #logits = tf.add(tf.matmul(x, W6), b6)\n",
    "    \n",
    "    return logits\n",
    "\n",
    "print('done')"
   ]
  },
  {
   "cell_type": "markdown",
   "metadata": {},
   "source": [
    "## Features and Labels\n",
    "Train LeNet to classify [Traffic- Signs data](https://d17h27t6h515a5.cloudfront.net/topher/2017/February/5898cd6f_traffic-signs-data/traffic-signs-data.zip) data.\n",
    "\n",
    "`x` is a placeholder for a batch of input images.\n",
    "`y` is a placeholder for a batch of output labels.\n",
    "\n",
    "You do not need to modify this section."
   ]
  },
  {
   "cell_type": "code",
   "execution_count": null,
   "metadata": {
    "collapsed": true
   },
   "outputs": [],
   "source": [
    "x = tf.placeholder(tf.float32, (None, 32, 32, 1))\n",
    "y = tf.placeholder(tf.int32, (None))\n",
    "one_hot_y = tf.one_hot(y, 43)"
   ]
  },
  {
   "cell_type": "markdown",
   "metadata": {},
   "source": [
    "## Training Pipeline\n",
    "Create a training pipeline that uses the model to classify data.\n",
    "\n",
    "You do not need to modify this section."
   ]
  },
  {
   "cell_type": "code",
   "execution_count": null,
   "metadata": {
    "collapsed": true
   },
   "outputs": [],
   "source": [
    "rate = 0.0005\n",
    "\n",
    "#logits = LeNet(x)\n",
    "logits = LeNet_modified(x)\n",
    "cross_entropy = tf.nn.softmax_cross_entropy_with_logits(labels=one_hot_y, logits=logits)\n",
    "loss_operation = tf.reduce_mean(cross_entropy)\n",
    "optimizer = tf.train.AdamOptimizer(learning_rate = rate)\n",
    "training_operation = optimizer.minimize(loss_operation)"
   ]
  },
  {
   "cell_type": "markdown",
   "metadata": {},
   "source": [
    "## Model Evaluation\n",
    "Evaluate how well the loss and accuracy of the model for a given dataset.\n",
    "\n",
    "You do not need to modify this section."
   ]
  },
  {
   "cell_type": "code",
   "execution_count": null,
   "metadata": {
    "collapsed": true
   },
   "outputs": [],
   "source": [
    "correct_prediction = tf.equal(tf.argmax(logits, 1), tf.argmax(one_hot_y, 1))\n",
    "accuracy_operation = tf.reduce_mean(tf.cast(correct_prediction, tf.float32))\n",
    "saver = tf.train.Saver()\n",
    "\n",
    "def evaluate(X_data, y_data):\n",
    "    num_examples = len(X_data)\n",
    "    total_accuracy = 0\n",
    "    sess = tf.get_default_session()\n",
    "    for offset in range(0, num_examples, BATCH_SIZE):\n",
    "        batch_x, batch_y = X_data[offset:offset+BATCH_SIZE], y_data[offset:offset+BATCH_SIZE]\n",
    "        accuracy = sess.run(accuracy_operation, feed_dict={x: batch_x, y: batch_y})\n",
    "        total_accuracy += (accuracy * len(batch_x))\n",
    "    return total_accuracy / num_examples"
   ]
  },
  {
   "cell_type": "markdown",
   "metadata": {},
   "source": [
    "## Train the Model\n",
    "Run the training data through the training pipeline to train the model.\n",
    "\n",
    "Before each epoch, shuffle the training set.\n",
    "\n",
    "After each epoch, measure the loss and accuracy of the validation set.\n",
    "\n",
    "Save the model after training.\n",
    "\n",
    "You do not need to modify this section."
   ]
  },
  {
   "cell_type": "code",
   "execution_count": null,
   "metadata": {
    "collapsed": true
   },
   "outputs": [],
   "source": [
    "with tf.Session() as sess:\n",
    "    sess.run(tf.global_variables_initializer())\n",
    "    num_examples = len(X_train)\n",
    "    \n",
    "    print(\"Training...\")\n",
    "    print()\n",
    "    for i in range(EPOCHS):\n",
    "        X_train, y_train = shuffle(X_train, y_train)\n",
    "        for offset in range(0, num_examples, BATCH_SIZE):\n",
    "            end = offset + BATCH_SIZE\n",
    "            batch_x, batch_y = X_train[offset:end], y_train[offset:end]\n",
    "            sess.run(training_operation, feed_dict={x: batch_x, y: batch_y})\n",
    "            \n",
    "        validation_accuracy = evaluate(X_validation, y_validation)\n",
    "        print(\"EPOCH {} ...\".format(i+1))\n",
    "        print(\"Validation Accuracy = {:.3f}\".format(validation_accuracy))\n",
    "        print()\n",
    "        \n",
    "    saver.save(sess, './lenet')\n",
    "    print(\"Model saved\")"
   ]
  },
  {
   "cell_type": "markdown",
   "metadata": {},
   "source": [
    "## Evaluate the Model\n",
    "Once you are completely satisfied with your model, evaluate the performance of the model on the test set.\n",
    "\n",
    "Be sure to only do this once!\n",
    "\n",
    "If you were to measure the performance of your trained model on the test set, then improve your model, and then measure the performance of your model on the test set again, that would invalidate your test results. You wouldn't get a true measure of how well your model would perform against real data.\n",
    "\n",
    "You do not need to modify this section."
   ]
  },
  {
   "cell_type": "code",
   "execution_count": null,
   "metadata": {
    "collapsed": true
   },
   "outputs": [],
   "source": [
    "with tf.Session() as sess:\n",
    "    saver.restore(sess, tf.train.latest_checkpoint('.'))\n",
    "\n",
    "    test_accuracy = evaluate(X_test, y_test)\n",
    "    print(\"Test Accuracy = {:.3f}\".format(test_accuracy))"
   ]
  },
  {
   "cell_type": "code",
   "execution_count": null,
   "metadata": {
    "collapsed": true
   },
   "outputs": [],
   "source": []
  }
 ],
 "metadata": {
  "anaconda-cloud": {},
  "kernelspec": {
   "display_name": "Python 3",
   "language": "python",
   "name": "python3"
  },
  "language_info": {
   "codemirror_mode": {
    "name": "ipython",
    "version": 3
   },
   "file_extension": ".py",
   "mimetype": "text/x-python",
   "name": "python",
   "nbconvert_exporter": "python",
   "pygments_lexer": "ipython3",
   "version": "3.6.1"
  },
  "widgets": {
   "state": {},
   "version": "1.1.2"
  }
 },
 "nbformat": 4,
 "nbformat_minor": 1
}
